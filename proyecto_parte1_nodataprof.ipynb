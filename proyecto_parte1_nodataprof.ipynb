{
 "cells": [
  {
   "cell_type": "markdown",
   "metadata": {},
   "source": [
    "### **Introducción a Ciencia de Datos**\n",
    "\n",
    "### **Proyecto 1**\n",
    "\n",
    "+ Laura Gómez Bustamante (191294)\n",
    "+ Miguel Angel Millán Dorado (191470)"
   ]
  },
  {
   "cell_type": "markdown",
   "metadata": {},
   "source": [
    "#### **Introducción**\n",
    "\n",
    "El análisis que a continuación se presenta corresponde a una base de datos sobre procedimientos de Interrupción Legal del Embarazo (ILE) realizados en las clínicas y hospitales de la Secretaría de Salud de la Ciudad de México, durante el periodo enero 2016 a octubre 2019. La base de datos está formado por 36 variables y 62,003 observaciones.\n",
    "Dicha información se encuentra disponible en la siguiente dirección:\n",
    " https://datos.cdmx.gob.mx/explore/dataset/interrupcion-legal-del-embarazo/table/\n",
    "\n",
    "El objetivo que se establece es utilizar algoritmos de *Machine Learning* para desarrollar un modelo que sea capaz  de predecir si la edad de la persona que llega a realizarse la interrupción legal del embarazo pertenece a alguna de las siguientes catergorías:\n",
    "\n",
    "+ Mayor o igual a 23 años\n",
    "+ Menor a 23 años\n",
    "\n",
    "En este contexto se plantea que el gobierno utilice esta información para diseñar campañas de prevención de embarazos para las mujeres del primer grupo, es decir cuya edad es mayor o igual a 23 años.  \n",
    "\n",
    "El documento está conformado por las siguientes cuatro secciones:\n",
    "\n",
    "1. Análisis Exploratorio de Datos\n",
    "2. Selección de Variables\n",
    "3. Modelado\n",
    "4. Implicaciones Éticas"
   ]
  },
  {
   "cell_type": "code",
   "execution_count": 1,
   "metadata": {},
   "outputs": [
    {
     "data": {
      "text/html": [
       "<button onclick=\"jQuery('.input_area').toggle(); jQuery('.prompt').toggle();\">Toggle code</button>"
      ]
     },
     "metadata": {},
     "output_type": "display_data"
    }
   ],
   "source": [
    "from IPython.display import display\n",
    "from IPython.display import HTML\n",
    "import IPython.core.display as di \n",
    "di.display_html('''<button onclick=\"jQuery('.input_area').toggle(); jQuery('.prompt').toggle();\">Toggle code</button>''', raw=True)"
   ]
  },
  {
   "cell_type": "code",
   "execution_count": 2,
   "metadata": {},
   "outputs": [],
   "source": [
    "import clean_data\n",
    "import load_data\n",
    "import matplotlib.pyplot as plt\n",
    "import numpy as np\n",
    "import pandas as pd\n",
    "import seaborn as sms\n",
    "import transform_data\n",
    " \n",
    "from pandas_profiling import ProfileReport\n",
    "from sklearn.compose import ColumnTransformer\n",
    "from sklearn.ensemble import GradientBoostingClassifier\n",
    "from sklearn.ensemble import RandomForestClassifier\n",
    "from sklearn.feature_selection import SelectFromModel\n",
    "from sklearn.impute import SimpleImputer\n",
    "from sklearn.metrics import confusion_matrix\n",
    "from sklearn.model_selection import cross_val_predict\n",
    "from sklearn.model_selection import cross_validate\n",
    "from sklearn.model_selection import GridSearchCV\n",
    "from sklearn.model_selection import train_test_split\n",
    "from sklearn.utils.multiclass import unique_labels\n",
    "from sklearn.tree import DecisionTreeClassifier"
   ]
  },
  {
   "cell_type": "markdown",
   "metadata": {},
   "source": [
    "#### **1. Análisis Exploratorio de Datos**\n",
    "\n",
    "Dentro de esta sección se presenta la exploración de los datos analizados, con el objetivo de identificar posibles errores, conocer las distribuciones, valores faltantes o atípicos, valores máximos y mínimos, entre otros. "
   ]
  },
  {
   "cell_type": "markdown",
   "metadata": {},
   "source": [
    "**Carga de Datos**"
   ]
  },
  {
   "cell_type": "code",
   "execution_count": 3,
   "metadata": {},
   "outputs": [
    {
     "name": "stdout",
     "output_type": "stream",
     "text": [
      "Número de observaciones:  62003\n",
      "Número de variables:  36\n"
     ]
    },
    {
     "data": {
      "text/html": [
       "<div>\n",
       "<style scoped>\n",
       "    .dataframe tbody tr th:only-of-type {\n",
       "        vertical-align: middle;\n",
       "    }\n",
       "\n",
       "    .dataframe tbody tr th {\n",
       "        vertical-align: top;\n",
       "    }\n",
       "\n",
       "    .dataframe thead th {\n",
       "        text-align: right;\n",
       "    }\n",
       "</style>\n",
       "<table border=\"1\" class=\"dataframe\">\n",
       "  <thead>\n",
       "    <tr style=\"text-align: right;\">\n",
       "      <th></th>\n",
       "      <th>AÑO</th>\n",
       "      <th>MES</th>\n",
       "      <th>CVE_HOSPITAL</th>\n",
       "      <th>FINGRESO</th>\n",
       "      <th>AUTOREF</th>\n",
       "      <th>EDOCIVIL_DESCRIPCION</th>\n",
       "      <th>EDAD</th>\n",
       "      <th>DESC_DERECHOHAB</th>\n",
       "      <th>NIVEL_EDU</th>\n",
       "      <th>OCUPACION</th>\n",
       "      <th>...</th>\n",
       "      <th>C_NUM</th>\n",
       "      <th>MOTILES</th>\n",
       "      <th>H_FINGRESO</th>\n",
       "      <th>DESC_SERVICIO</th>\n",
       "      <th>P_SEMGEST</th>\n",
       "      <th>P_DIASGESTA</th>\n",
       "      <th>P_CONSENT</th>\n",
       "      <th>PROCILE</th>\n",
       "      <th>S_COMPLICA</th>\n",
       "      <th>PANTICONCEP</th>\n",
       "    </tr>\n",
       "  </thead>\n",
       "  <tbody>\n",
       "    <tr>\n",
       "      <th>0</th>\n",
       "      <td>2016</td>\n",
       "      <td>Enero</td>\n",
       "      <td>10</td>\n",
       "      <td>12/01/16</td>\n",
       "      <td>AUTORREFERIDA</td>\n",
       "      <td>soltera</td>\n",
       "      <td>34</td>\n",
       "      <td>ninguna</td>\n",
       "      <td>primaria completa</td>\n",
       "      <td>Desempleada</td>\n",
       "      <td>...</td>\n",
       "      <td>2.0</td>\n",
       "      <td>interrupción voluntaria</td>\n",
       "      <td>NE</td>\n",
       "      <td>Salud Reproductiva</td>\n",
       "      <td>0.0</td>\n",
       "      <td>NaN</td>\n",
       "      <td>Si</td>\n",
       "      <td>Misoprostol</td>\n",
       "      <td>Si</td>\n",
       "      <td>NaN</td>\n",
       "    </tr>\n",
       "    <tr>\n",
       "      <th>1</th>\n",
       "      <td>2016</td>\n",
       "      <td>Abril</td>\n",
       "      <td>1</td>\n",
       "      <td>25/04/16</td>\n",
       "      <td>no</td>\n",
       "      <td>unión libre</td>\n",
       "      <td>27</td>\n",
       "      <td>ninguna</td>\n",
       "      <td>licenciatura completa</td>\n",
       "      <td>Mesera</td>\n",
       "      <td>...</td>\n",
       "      <td>NaN</td>\n",
       "      <td>interrupción voluntaria</td>\n",
       "      <td>25/04/16</td>\n",
       "      <td>ILE</td>\n",
       "      <td>11.0</td>\n",
       "      <td>2.0</td>\n",
       "      <td>Si</td>\n",
       "      <td>Aspiración</td>\n",
       "      <td>No</td>\n",
       "      <td>condón</td>\n",
       "    </tr>\n",
       "    <tr>\n",
       "      <th>2</th>\n",
       "      <td>2018</td>\n",
       "      <td>Julio</td>\n",
       "      <td>4</td>\n",
       "      <td>11/07/18</td>\n",
       "      <td>NaN</td>\n",
       "      <td>soltera</td>\n",
       "      <td>29</td>\n",
       "      <td>ninguna</td>\n",
       "      <td>secundaria completa</td>\n",
       "      <td>Trabajadora del Sector Público</td>\n",
       "      <td>...</td>\n",
       "      <td>2.0</td>\n",
       "      <td>interrupción voluntaria</td>\n",
       "      <td>NE</td>\n",
       "      <td>ILE</td>\n",
       "      <td>7.0</td>\n",
       "      <td>6.0</td>\n",
       "      <td>NaN</td>\n",
       "      <td>Mifepristona 200 mg + Misoprostol 800 mcg</td>\n",
       "      <td>NaN</td>\n",
       "      <td>Anticonceptivo Oral</td>\n",
       "    </tr>\n",
       "    <tr>\n",
       "      <th>3</th>\n",
       "      <td>2016</td>\n",
       "      <td>Enero</td>\n",
       "      <td>10</td>\n",
       "      <td>07/01/16</td>\n",
       "      <td>AUTORREFERIDA</td>\n",
       "      <td>casada</td>\n",
       "      <td>33</td>\n",
       "      <td>ninguna</td>\n",
       "      <td>preparatoria completa</td>\n",
       "      <td>Ama de Casa</td>\n",
       "      <td>...</td>\n",
       "      <td>2.0</td>\n",
       "      <td>interrupción voluntaria</td>\n",
       "      <td>NE</td>\n",
       "      <td>Salud Reproductiva</td>\n",
       "      <td>4.0</td>\n",
       "      <td>NaN</td>\n",
       "      <td>Si</td>\n",
       "      <td>Misoprostol</td>\n",
       "      <td>Si</td>\n",
       "      <td>NaN</td>\n",
       "    </tr>\n",
       "    <tr>\n",
       "      <th>4</th>\n",
       "      <td>2018</td>\n",
       "      <td>Agosto</td>\n",
       "      <td>7</td>\n",
       "      <td>NaN</td>\n",
       "      <td>no</td>\n",
       "      <td>unión libre</td>\n",
       "      <td>23</td>\n",
       "      <td>N/E</td>\n",
       "      <td>preparatoria completa</td>\n",
       "      <td>NaN</td>\n",
       "      <td>...</td>\n",
       "      <td>2.0</td>\n",
       "      <td>interrupción voluntaria</td>\n",
       "      <td>24/08/18</td>\n",
       "      <td>Gineco Obstetrícia</td>\n",
       "      <td>7.0</td>\n",
       "      <td>3.0</td>\n",
       "      <td>NaN</td>\n",
       "      <td>Misoprostol</td>\n",
       "      <td>NaN</td>\n",
       "      <td>implante subdermico</td>\n",
       "    </tr>\n",
       "  </tbody>\n",
       "</table>\n",
       "<p>5 rows × 36 columns</p>\n",
       "</div>"
      ],
      "text/plain": [
       "    AÑO     MES  CVE_HOSPITAL  FINGRESO        AUTOREF EDOCIVIL_DESCRIPCION  \\\n",
       "0  2016   Enero            10  12/01/16  AUTORREFERIDA              soltera   \n",
       "1  2016   Abril             1  25/04/16             no          unión libre   \n",
       "2  2018   Julio             4  11/07/18            NaN              soltera   \n",
       "3  2016   Enero            10  07/01/16  AUTORREFERIDA               casada   \n",
       "4  2018  Agosto             7       NaN             no          unión libre   \n",
       "\n",
       "   EDAD DESC_DERECHOHAB              NIVEL_EDU  \\\n",
       "0    34         ninguna      primaria completa   \n",
       "1    27         ninguna  licenciatura completa   \n",
       "2    29         ninguna    secundaria completa   \n",
       "3    33         ninguna  preparatoria completa   \n",
       "4    23             N/E  preparatoria completa   \n",
       "\n",
       "                        OCUPACION  ... C_NUM                  MOTILES  \\\n",
       "0                     Desempleada  ...   2.0  interrupción voluntaria   \n",
       "1                          Mesera  ...   NaN  interrupción voluntaria   \n",
       "2  Trabajadora del Sector Público  ...   2.0  interrupción voluntaria   \n",
       "3                     Ama de Casa  ...   2.0  interrupción voluntaria   \n",
       "4                             NaN  ...   2.0  interrupción voluntaria   \n",
       "\n",
       "  H_FINGRESO       DESC_SERVICIO  P_SEMGEST  P_DIASGESTA P_CONSENT  \\\n",
       "0         NE  Salud Reproductiva        0.0          NaN        Si   \n",
       "1   25/04/16                 ILE       11.0          2.0        Si   \n",
       "2         NE                 ILE        7.0          6.0       NaN   \n",
       "3         NE  Salud Reproductiva        4.0          NaN        Si   \n",
       "4   24/08/18  Gineco Obstetrícia        7.0          3.0       NaN   \n",
       "\n",
       "                                     PROCILE  S_COMPLICA          PANTICONCEP  \n",
       "0                                Misoprostol          Si                  NaN  \n",
       "1                                 Aspiración          No               condón  \n",
       "2  Mifepristona 200 mg + Misoprostol 800 mcg         NaN  Anticonceptivo Oral  \n",
       "3                                Misoprostol          Si                  NaN  \n",
       "4                                Misoprostol         NaN  implante subdermico  \n",
       "\n",
       "[5 rows x 36 columns]"
      ]
     },
     "execution_count": 3,
     "metadata": {},
     "output_type": "execute_result"
    }
   ],
   "source": [
    "# Carga de la base de datos de interrupción legal del embarazo (ile)\n",
    "\n",
    "df_ile = load_data.cargar_datos(\"interrupcion-legal-del-embarazo.csv\")\n",
    "df_ile.head()"
   ]
  },
  {
   "cell_type": "markdown",
   "metadata": {},
   "source": [
    "**Limpieza de Datos**\n",
    "\n",
    "Se lleva a cabo la estandarización tanto de los nombres de las variables, como de la información contenida en cada una y se muestra el conjunto de datos estandarizado."
   ]
  },
  {
   "cell_type": "code",
   "execution_count": 4,
   "metadata": {},
   "outputs": [],
   "source": [
    "# Se realiza la limpieza de los nombres de las variables (columnas)\n",
    "\n",
    "ile_columnas_limpias = clean_data.estandarizar_columnas(df_ile)"
   ]
  },
  {
   "cell_type": "code",
   "execution_count": 5,
   "metadata": {},
   "outputs": [
    {
     "data": {
      "text/html": [
       "<div>\n",
       "<style scoped>\n",
       "    .dataframe tbody tr th:only-of-type {\n",
       "        vertical-align: middle;\n",
       "    }\n",
       "\n",
       "    .dataframe tbody tr th {\n",
       "        vertical-align: top;\n",
       "    }\n",
       "\n",
       "    .dataframe thead th {\n",
       "        text-align: right;\n",
       "    }\n",
       "</style>\n",
       "<table border=\"1\" class=\"dataframe\">\n",
       "  <thead>\n",
       "    <tr style=\"text-align: right;\">\n",
       "      <th></th>\n",
       "      <th>año</th>\n",
       "      <th>cve_hospital</th>\n",
       "      <th>edad</th>\n",
       "      <th>menarca</th>\n",
       "      <th>fsexual</th>\n",
       "      <th>sememb</th>\n",
       "      <th>nhijos</th>\n",
       "      <th>gesta</th>\n",
       "      <th>naborto</th>\n",
       "      <th>npartos</th>\n",
       "      <th>...</th>\n",
       "      <th>fmenstrua</th>\n",
       "      <th>consejeria</th>\n",
       "      <th>anticonceptivo</th>\n",
       "      <th>motiles</th>\n",
       "      <th>h_fingreso</th>\n",
       "      <th>desc_servicio</th>\n",
       "      <th>p_consent</th>\n",
       "      <th>procile</th>\n",
       "      <th>s_complica</th>\n",
       "      <th>panticoncep</th>\n",
       "    </tr>\n",
       "  </thead>\n",
       "  <tbody>\n",
       "    <tr>\n",
       "      <th>0</th>\n",
       "      <td>2016</td>\n",
       "      <td>10</td>\n",
       "      <td>34</td>\n",
       "      <td>11.0</td>\n",
       "      <td>17.0</td>\n",
       "      <td>7.0</td>\n",
       "      <td>1.0</td>\n",
       "      <td>3.0</td>\n",
       "      <td>0.0</td>\n",
       "      <td>0.0</td>\n",
       "      <td>...</td>\n",
       "      <td>16/11/15</td>\n",
       "      <td>si</td>\n",
       "      <td>anticoncepcion_de_emergencia</td>\n",
       "      <td>interrupcion_voluntaria</td>\n",
       "      <td>ne</td>\n",
       "      <td>salud_reproductiva</td>\n",
       "      <td>si</td>\n",
       "      <td>misoprostol</td>\n",
       "      <td>si</td>\n",
       "      <td>NaN</td>\n",
       "    </tr>\n",
       "    <tr>\n",
       "      <th>1</th>\n",
       "      <td>2016</td>\n",
       "      <td>1</td>\n",
       "      <td>27</td>\n",
       "      <td>11.0</td>\n",
       "      <td>18.0</td>\n",
       "      <td>8.4</td>\n",
       "      <td>1.0</td>\n",
       "      <td>3.0</td>\n",
       "      <td>0.0</td>\n",
       "      <td>1.0</td>\n",
       "      <td>...</td>\n",
       "      <td>25/02/16</td>\n",
       "      <td>si</td>\n",
       "      <td>condon</td>\n",
       "      <td>interrupcion_voluntaria</td>\n",
       "      <td>25/04/16</td>\n",
       "      <td>ile</td>\n",
       "      <td>si</td>\n",
       "      <td>aspiracion</td>\n",
       "      <td>no</td>\n",
       "      <td>condon</td>\n",
       "    </tr>\n",
       "    <tr>\n",
       "      <th>2</th>\n",
       "      <td>2018</td>\n",
       "      <td>4</td>\n",
       "      <td>29</td>\n",
       "      <td>11.0</td>\n",
       "      <td>15.0</td>\n",
       "      <td>7.0</td>\n",
       "      <td>3.0</td>\n",
       "      <td>4.0</td>\n",
       "      <td>0.0</td>\n",
       "      <td>3.0</td>\n",
       "      <td>...</td>\n",
       "      <td>18/05/18</td>\n",
       "      <td>si</td>\n",
       "      <td>diu</td>\n",
       "      <td>interrupcion_voluntaria</td>\n",
       "      <td>ne</td>\n",
       "      <td>ile</td>\n",
       "      <td>NaN</td>\n",
       "      <td>mifepristona_200_mg__misoprostol_800_mcg</td>\n",
       "      <td>NaN</td>\n",
       "      <td>anticonceptivo_oral</td>\n",
       "    </tr>\n",
       "    <tr>\n",
       "      <th>3</th>\n",
       "      <td>2016</td>\n",
       "      <td>10</td>\n",
       "      <td>33</td>\n",
       "      <td>15.0</td>\n",
       "      <td>17.0</td>\n",
       "      <td>7.4</td>\n",
       "      <td>2.0</td>\n",
       "      <td>4.0</td>\n",
       "      <td>1.0</td>\n",
       "      <td>2.0</td>\n",
       "      <td>...</td>\n",
       "      <td>16/11/15</td>\n",
       "      <td>si</td>\n",
       "      <td>ninguno</td>\n",
       "      <td>interrupcion_voluntaria</td>\n",
       "      <td>ne</td>\n",
       "      <td>salud_reproductiva</td>\n",
       "      <td>si</td>\n",
       "      <td>misoprostol</td>\n",
       "      <td>si</td>\n",
       "      <td>NaN</td>\n",
       "    </tr>\n",
       "    <tr>\n",
       "      <th>4</th>\n",
       "      <td>2018</td>\n",
       "      <td>7</td>\n",
       "      <td>23</td>\n",
       "      <td>12.0</td>\n",
       "      <td>16.0</td>\n",
       "      <td>NaN</td>\n",
       "      <td>1.0</td>\n",
       "      <td>2.0</td>\n",
       "      <td>0.0</td>\n",
       "      <td>1.0</td>\n",
       "      <td>...</td>\n",
       "      <td>NaN</td>\n",
       "      <td>si</td>\n",
       "      <td>condon</td>\n",
       "      <td>interrupcion_voluntaria</td>\n",
       "      <td>24/08/18</td>\n",
       "      <td>gineco_obstetricia</td>\n",
       "      <td>NaN</td>\n",
       "      <td>misoprostol</td>\n",
       "      <td>NaN</td>\n",
       "      <td>implante_subdermico</td>\n",
       "    </tr>\n",
       "  </tbody>\n",
       "</table>\n",
       "<p>5 rows × 36 columns</p>\n",
       "</div>"
      ],
      "text/plain": [
       "    año  cve_hospital  edad  menarca  fsexual  sememb  nhijos  gesta  naborto  \\\n",
       "0  2016            10    34     11.0     17.0     7.0     1.0    3.0      0.0   \n",
       "1  2016             1    27     11.0     18.0     8.4     1.0    3.0      0.0   \n",
       "2  2018             4    29     11.0     15.0     7.0     3.0    4.0      0.0   \n",
       "3  2016            10    33     15.0     17.0     7.4     2.0    4.0      1.0   \n",
       "4  2018             7    23     12.0     16.0     NaN     1.0    2.0      0.0   \n",
       "\n",
       "   npartos  ...  fmenstrua  consejeria                anticonceptivo  \\\n",
       "0      0.0  ...   16/11/15          si  anticoncepcion_de_emergencia   \n",
       "1      1.0  ...   25/02/16          si                        condon   \n",
       "2      3.0  ...   18/05/18          si                           diu   \n",
       "3      2.0  ...   16/11/15          si                       ninguno   \n",
       "4      1.0  ...        NaN          si                        condon   \n",
       "\n",
       "                   motiles  h_fingreso       desc_servicio p_consent  \\\n",
       "0  interrupcion_voluntaria          ne  salud_reproductiva        si   \n",
       "1  interrupcion_voluntaria    25/04/16                 ile        si   \n",
       "2  interrupcion_voluntaria          ne                 ile       NaN   \n",
       "3  interrupcion_voluntaria          ne  salud_reproductiva        si   \n",
       "4  interrupcion_voluntaria    24/08/18  gineco_obstetricia       NaN   \n",
       "\n",
       "                                    procile s_complica          panticoncep  \n",
       "0                               misoprostol         si                  NaN  \n",
       "1                                aspiracion         no               condon  \n",
       "2  mifepristona_200_mg__misoprostol_800_mcg        NaN  anticonceptivo_oral  \n",
       "3                               misoprostol         si                  NaN  \n",
       "4                               misoprostol        NaN  implante_subdermico  \n",
       "\n",
       "[5 rows x 36 columns]"
      ]
     },
     "execution_count": 5,
     "metadata": {},
     "output_type": "execute_result"
    }
   ],
   "source": [
    "# Se crean dataframes para variables de tipo float, entero y object\n",
    "\n",
    "# Variables tipo float\n",
    "ile_float = ile_columnas_limpias.select_dtypes(include = [np.float])\n",
    "\n",
    "# Variables tipo entero\n",
    "ile_int = ile_columnas_limpias.select_dtypes(include = [np.int])\n",
    "\n",
    "# Variables tipo object\n",
    "ile_object = ile_columnas_limpias.select_dtypes(include=[np.object])\n",
    "\n",
    "# Se reliza la estandarización del dataframe que contienen variables de tipo object\n",
    "ile_object_estandar = transform_data.estandarizar_datos(ile_object)\n",
    "\n",
    "# Se crea un nuevo dataframe con las variables de tipo object ya estandarizadas\n",
    "ile_estandar = pd.concat([ile_int,ile_float,ile_object_estandar],axis = 1)\n",
    "ile_estandar.head()"
   ]
  },
  {
   "cell_type": "markdown",
   "metadata": {},
   "source": [
    "**Data Profiling**\n",
    "\n",
    "Tomando en cuenta el objetivo del proyecto, se creará una nueva variable binaria que clasifique a las mujeres en los dos grupos de edad que nos interesan:\n",
    "\n",
    "+ 0: Menor a 23 años\n",
    "+ 1: Mayor o igual a 23 años\n",
    "\n",
    "Lo anterior permitirá conocer puntos importantes en relación a los grupos en cuestión."
   ]
  },
  {
   "cell_type": "code",
   "execution_count": 6,
   "metadata": {},
   "outputs": [
    {
     "data": {
      "text/html": [
       "<div>\n",
       "<style scoped>\n",
       "    .dataframe tbody tr th:only-of-type {\n",
       "        vertical-align: middle;\n",
       "    }\n",
       "\n",
       "    .dataframe tbody tr th {\n",
       "        vertical-align: top;\n",
       "    }\n",
       "\n",
       "    .dataframe thead th {\n",
       "        text-align: right;\n",
       "    }\n",
       "</style>\n",
       "<table border=\"1\" class=\"dataframe\">\n",
       "  <thead>\n",
       "    <tr style=\"text-align: right;\">\n",
       "      <th></th>\n",
       "      <th>año</th>\n",
       "      <th>cve_hospital</th>\n",
       "      <th>edad</th>\n",
       "      <th>menarca</th>\n",
       "      <th>fsexual</th>\n",
       "      <th>sememb</th>\n",
       "      <th>nhijos</th>\n",
       "      <th>gesta</th>\n",
       "      <th>naborto</th>\n",
       "      <th>npartos</th>\n",
       "      <th>...</th>\n",
       "      <th>consejeria</th>\n",
       "      <th>anticonceptivo</th>\n",
       "      <th>motiles</th>\n",
       "      <th>h_fingreso</th>\n",
       "      <th>desc_servicio</th>\n",
       "      <th>p_consent</th>\n",
       "      <th>procile</th>\n",
       "      <th>s_complica</th>\n",
       "      <th>panticoncep</th>\n",
       "      <th>edad23</th>\n",
       "    </tr>\n",
       "  </thead>\n",
       "  <tbody>\n",
       "    <tr>\n",
       "      <th>0</th>\n",
       "      <td>2016</td>\n",
       "      <td>10</td>\n",
       "      <td>34</td>\n",
       "      <td>11.0</td>\n",
       "      <td>17.0</td>\n",
       "      <td>7.0</td>\n",
       "      <td>1.0</td>\n",
       "      <td>3.0</td>\n",
       "      <td>0.0</td>\n",
       "      <td>0.0</td>\n",
       "      <td>...</td>\n",
       "      <td>si</td>\n",
       "      <td>anticoncepcion_de_emergencia</td>\n",
       "      <td>interrupcion_voluntaria</td>\n",
       "      <td>ne</td>\n",
       "      <td>salud_reproductiva</td>\n",
       "      <td>si</td>\n",
       "      <td>misoprostol</td>\n",
       "      <td>si</td>\n",
       "      <td>NaN</td>\n",
       "      <td>1</td>\n",
       "    </tr>\n",
       "    <tr>\n",
       "      <th>1</th>\n",
       "      <td>2016</td>\n",
       "      <td>1</td>\n",
       "      <td>27</td>\n",
       "      <td>11.0</td>\n",
       "      <td>18.0</td>\n",
       "      <td>8.4</td>\n",
       "      <td>1.0</td>\n",
       "      <td>3.0</td>\n",
       "      <td>0.0</td>\n",
       "      <td>1.0</td>\n",
       "      <td>...</td>\n",
       "      <td>si</td>\n",
       "      <td>condon</td>\n",
       "      <td>interrupcion_voluntaria</td>\n",
       "      <td>25/04/16</td>\n",
       "      <td>ile</td>\n",
       "      <td>si</td>\n",
       "      <td>aspiracion</td>\n",
       "      <td>no</td>\n",
       "      <td>condon</td>\n",
       "      <td>1</td>\n",
       "    </tr>\n",
       "    <tr>\n",
       "      <th>2</th>\n",
       "      <td>2018</td>\n",
       "      <td>4</td>\n",
       "      <td>29</td>\n",
       "      <td>11.0</td>\n",
       "      <td>15.0</td>\n",
       "      <td>7.0</td>\n",
       "      <td>3.0</td>\n",
       "      <td>4.0</td>\n",
       "      <td>0.0</td>\n",
       "      <td>3.0</td>\n",
       "      <td>...</td>\n",
       "      <td>si</td>\n",
       "      <td>diu</td>\n",
       "      <td>interrupcion_voluntaria</td>\n",
       "      <td>ne</td>\n",
       "      <td>ile</td>\n",
       "      <td>NaN</td>\n",
       "      <td>mifepristona_200_mg__misoprostol_800_mcg</td>\n",
       "      <td>NaN</td>\n",
       "      <td>anticonceptivo_oral</td>\n",
       "      <td>1</td>\n",
       "    </tr>\n",
       "    <tr>\n",
       "      <th>3</th>\n",
       "      <td>2016</td>\n",
       "      <td>10</td>\n",
       "      <td>33</td>\n",
       "      <td>15.0</td>\n",
       "      <td>17.0</td>\n",
       "      <td>7.4</td>\n",
       "      <td>2.0</td>\n",
       "      <td>4.0</td>\n",
       "      <td>1.0</td>\n",
       "      <td>2.0</td>\n",
       "      <td>...</td>\n",
       "      <td>si</td>\n",
       "      <td>ninguno</td>\n",
       "      <td>interrupcion_voluntaria</td>\n",
       "      <td>ne</td>\n",
       "      <td>salud_reproductiva</td>\n",
       "      <td>si</td>\n",
       "      <td>misoprostol</td>\n",
       "      <td>si</td>\n",
       "      <td>NaN</td>\n",
       "      <td>1</td>\n",
       "    </tr>\n",
       "    <tr>\n",
       "      <th>4</th>\n",
       "      <td>2018</td>\n",
       "      <td>7</td>\n",
       "      <td>23</td>\n",
       "      <td>12.0</td>\n",
       "      <td>16.0</td>\n",
       "      <td>NaN</td>\n",
       "      <td>1.0</td>\n",
       "      <td>2.0</td>\n",
       "      <td>0.0</td>\n",
       "      <td>1.0</td>\n",
       "      <td>...</td>\n",
       "      <td>si</td>\n",
       "      <td>condon</td>\n",
       "      <td>interrupcion_voluntaria</td>\n",
       "      <td>24/08/18</td>\n",
       "      <td>gineco_obstetricia</td>\n",
       "      <td>NaN</td>\n",
       "      <td>misoprostol</td>\n",
       "      <td>NaN</td>\n",
       "      <td>implante_subdermico</td>\n",
       "      <td>1</td>\n",
       "    </tr>\n",
       "  </tbody>\n",
       "</table>\n",
       "<p>5 rows × 37 columns</p>\n",
       "</div>"
      ],
      "text/plain": [
       "    año  cve_hospital  edad  menarca  fsexual  sememb  nhijos  gesta  naborto  \\\n",
       "0  2016            10    34     11.0     17.0     7.0     1.0    3.0      0.0   \n",
       "1  2016             1    27     11.0     18.0     8.4     1.0    3.0      0.0   \n",
       "2  2018             4    29     11.0     15.0     7.0     3.0    4.0      0.0   \n",
       "3  2016            10    33     15.0     17.0     7.4     2.0    4.0      1.0   \n",
       "4  2018             7    23     12.0     16.0     NaN     1.0    2.0      0.0   \n",
       "\n",
       "   npartos  ...  consejeria                anticonceptivo  \\\n",
       "0      0.0  ...          si  anticoncepcion_de_emergencia   \n",
       "1      1.0  ...          si                        condon   \n",
       "2      3.0  ...          si                           diu   \n",
       "3      2.0  ...          si                       ninguno   \n",
       "4      1.0  ...          si                        condon   \n",
       "\n",
       "                   motiles  h_fingreso       desc_servicio p_consent  \\\n",
       "0  interrupcion_voluntaria          ne  salud_reproductiva        si   \n",
       "1  interrupcion_voluntaria    25/04/16                 ile        si   \n",
       "2  interrupcion_voluntaria          ne                 ile       NaN   \n",
       "3  interrupcion_voluntaria          ne  salud_reproductiva        si   \n",
       "4  interrupcion_voluntaria    24/08/18  gineco_obstetricia       NaN   \n",
       "\n",
       "                                    procile s_complica          panticoncep  \\\n",
       "0                               misoprostol         si                  NaN   \n",
       "1                                aspiracion         no               condon   \n",
       "2  mifepristona_200_mg__misoprostol_800_mcg        NaN  anticonceptivo_oral   \n",
       "3                               misoprostol         si                  NaN   \n",
       "4                               misoprostol        NaN  implante_subdermico   \n",
       "\n",
       "  edad23  \n",
       "0      1  \n",
       "1      1  \n",
       "2      1  \n",
       "3      1  \n",
       "4      1  \n",
       "\n",
       "[5 rows x 37 columns]"
      ]
     },
     "execution_count": 6,
     "metadata": {},
     "output_type": "execute_result"
    }
   ],
   "source": [
    "# Se crea la variable \"edad23\" que clasifica a las mujeres en dos grupos, de acuerdo a su edad\n",
    "ile_estandar['edad23'] = np.where(ile_estandar['edad'] >= 23, '1', '0')\n",
    "\n",
    "# La nueva variable edad23, se transforma a una variable de tipo entero.\n",
    "# Esto es importante para la parte de One Hot Encoding que será desarrollada más adelante\n",
    "ile_estandar = transform_data.convertir_variable(ile_estandar,'edad23',int)\n",
    "ile_estandar.head()"
   ]
  },
  {
   "cell_type": "markdown",
   "metadata": {},
   "source": [
    "Para obtener data profilinf del conjunto de datos, se decidió aprovechar la existencia de la función ProfileReport de la librería Pandas. "
   ]
  },
  {
   "cell_type": "code",
   "execution_count": 7,
   "metadata": {},
   "outputs": [],
   "source": [
    "# Implementación de la función ProfileReport\n",
    "\n",
    "ile_perfil = ProfileReport(ile_estandar, title='Pandas Profiling Report')"
   ]
  },
  {
   "cell_type": "markdown",
   "metadata": {},
   "source": [
    "Tomando como base el data profiling anterior, se identifican de manera particular las siguientes cuestiones:\n",
    "\n",
    "**Variables Predictoras**\n",
    "\n",
    "+ **autoref**: el 72.7% de observaciones corresponden a \"NaN\".\n",
    "+ **desc_derechohab**: la mitad de los datos están catalogados como \"ninguna\" y el resto está dividido en 35 categorías.\n",
    "+ **religion**: el 93 % de los datos corresponden a \"religion católica\" o \"ninguna\".\n",
    "+ **alcaldia**: existen 498 observaciones únicas.\n",
    "+ **menstrua**: existen 1509 observaciones únicas.\n",
    "+ **consejeria**: el 95% de las observaciones tiene el mismo dato: \"si\".\n",
    "+ **motiles** : el 97.4% de las observaciones tiene el mismo dato: \"interrupcion voluntaria\".\n",
    "+ **h_ingreso**: el 91% de las observaciones corresponde a \"na\" o \"n/e\".\n",
    "+ **desc_servicio**: el 77% de las observaciones corresponde a \"ile\".\n",
    "+ **p_consent**: las observaciones está concentradas en \"nan\" en un 71% y en \"si\" en un 28.7%.\n",
    "+ **sememb**: indica el número de semanas de embarazo conforme a la última fecha de menstruación. Esta variable incluye decimales, los cuáles podrían considerarse como la fracción de semana, es decir, 5.4 podría corresponder a 5 semanas de embarazo y 4 días. Si lo anterior fuera correcto, los decimales deberían variar entre 1 y 7; sin embargo se osberva que los decimales varían entre 1 y 9, en cuyo caso se puede pensar que se llevó a cabo una ponderación de forma que 5.4 corresponde a 5 semanas de embarazo y 3 días.\n",
    "+ **p_semgest**: incluye únicamente valores enteros, es decir, indica el número de semanas de embarazo sin considerar los días.\n",
    "+ **p_diasgesta**: es el complemento de la variable p_semgesta. Idealmente esta variable debería contener números entre 0 y 6; pero las observaciones incluyen datos entre 7 y hasta 94 días.\n",
    "\n",
    "A partir de las observaciones anteriores, se determinó eliminar todas la variables enlistadas, excepto **p_semgest**. La variable **fingreso** es eliminada debido a que existen las variables **año** y **mes** que generalizan la información contenida en la primera.En relación a **alc_o_municipio**, el hecho de tener 500 observaciones únicas no muestra un patrón de comportamiento que agregue valor al análisis. Lo concerniente a la variable **fmenstrua** reside en el número tan amplio de fechas incluidas, el cuál podría resumirse al utilizar la variable **p_semgest**. La variable **p_diasgesta** representa un dato incompleto, ya que es el complemento de la variable **p_semgest**. Por otro lado, a pesar de que la variable **sememb** concentra ambos datos: semanas y días de embarazo, este dato se calcula a partir de la última fecha de menstruación, por lo que se considera conveniente conservar **p_semgest** que es obtenida conforme al ultrasonido y descartar la primera. La eliminación del resto de las variables se sigue a partir de las anomalías particulares indicadas arriba.\n",
    "\n",
    "\n",
    "**Variable Target**\n",
    "\n",
    "Con respecto a esta variable, es importante mostrar explícitamente sus medidas descriptivas más importantes:\n",
    "\n",
    "+ Media: 25.69\n",
    "+ Desviación estándar: 6.28\n",
    "+ Moda: 22 (7.3% del de total de observaciones)\n",
    "+ Min: 11\n",
    "+ Max: 53\n",
    "+ Valores faltantes: 0"
   ]
  },
  {
   "cell_type": "code",
   "execution_count": 9,
   "metadata": {},
   "outputs": [
    {
     "data": {
      "text/html": [
       "<div>\n",
       "<style scoped>\n",
       "    .dataframe tbody tr th:only-of-type {\n",
       "        vertical-align: middle;\n",
       "    }\n",
       "\n",
       "    .dataframe tbody tr th {\n",
       "        vertical-align: top;\n",
       "    }\n",
       "\n",
       "    .dataframe thead th {\n",
       "        text-align: right;\n",
       "    }\n",
       "</style>\n",
       "<table border=\"1\" class=\"dataframe\">\n",
       "  <thead>\n",
       "    <tr style=\"text-align: right;\">\n",
       "      <th></th>\n",
       "      <th>año</th>\n",
       "      <th>cve_hospital</th>\n",
       "      <th>edad</th>\n",
       "      <th>menarca</th>\n",
       "      <th>fsexual</th>\n",
       "      <th>nhijos</th>\n",
       "      <th>gesta</th>\n",
       "      <th>naborto</th>\n",
       "      <th>npartos</th>\n",
       "      <th>ncesarea</th>\n",
       "      <th>...</th>\n",
       "      <th>edocivil_descripcion</th>\n",
       "      <th>nivel_edu</th>\n",
       "      <th>ocupacion</th>\n",
       "      <th>parentesco</th>\n",
       "      <th>entidad</th>\n",
       "      <th>anticonceptivo</th>\n",
       "      <th>procile</th>\n",
       "      <th>s_complica</th>\n",
       "      <th>panticoncep</th>\n",
       "      <th>edad23</th>\n",
       "    </tr>\n",
       "  </thead>\n",
       "  <tbody>\n",
       "    <tr>\n",
       "      <th>0</th>\n",
       "      <td>2016</td>\n",
       "      <td>10</td>\n",
       "      <td>34</td>\n",
       "      <td>11.0</td>\n",
       "      <td>17.0</td>\n",
       "      <td>1.0</td>\n",
       "      <td>3.0</td>\n",
       "      <td>0.0</td>\n",
       "      <td>0.0</td>\n",
       "      <td>1.0</td>\n",
       "      <td>...</td>\n",
       "      <td>soltera</td>\n",
       "      <td>primaria_completa</td>\n",
       "      <td>desempleada</td>\n",
       "      <td>amiga</td>\n",
       "      <td>estado_de_mexico</td>\n",
       "      <td>anticoncepcion_de_emergencia</td>\n",
       "      <td>misoprostol</td>\n",
       "      <td>si</td>\n",
       "      <td>NaN</td>\n",
       "      <td>1</td>\n",
       "    </tr>\n",
       "    <tr>\n",
       "      <th>1</th>\n",
       "      <td>2016</td>\n",
       "      <td>1</td>\n",
       "      <td>27</td>\n",
       "      <td>11.0</td>\n",
       "      <td>18.0</td>\n",
       "      <td>1.0</td>\n",
       "      <td>3.0</td>\n",
       "      <td>0.0</td>\n",
       "      <td>1.0</td>\n",
       "      <td>1.0</td>\n",
       "      <td>...</td>\n",
       "      <td>union_libre</td>\n",
       "      <td>licenciatura_completa</td>\n",
       "      <td>mesera</td>\n",
       "      <td>pareja</td>\n",
       "      <td>ciudad_de_mexico</td>\n",
       "      <td>condon</td>\n",
       "      <td>aspiracion</td>\n",
       "      <td>no</td>\n",
       "      <td>condon</td>\n",
       "      <td>1</td>\n",
       "    </tr>\n",
       "    <tr>\n",
       "      <th>2</th>\n",
       "      <td>2018</td>\n",
       "      <td>4</td>\n",
       "      <td>29</td>\n",
       "      <td>11.0</td>\n",
       "      <td>15.0</td>\n",
       "      <td>3.0</td>\n",
       "      <td>4.0</td>\n",
       "      <td>0.0</td>\n",
       "      <td>3.0</td>\n",
       "      <td>0.0</td>\n",
       "      <td>...</td>\n",
       "      <td>soltera</td>\n",
       "      <td>secundaria_completa</td>\n",
       "      <td>trabajadora_del_sector_publico</td>\n",
       "      <td>NaN</td>\n",
       "      <td>estado_de_mexico</td>\n",
       "      <td>diu</td>\n",
       "      <td>mifepristona_200_mg__misoprostol_800_mcg</td>\n",
       "      <td>NaN</td>\n",
       "      <td>anticonceptivo_oral</td>\n",
       "      <td>1</td>\n",
       "    </tr>\n",
       "    <tr>\n",
       "      <th>3</th>\n",
       "      <td>2016</td>\n",
       "      <td>10</td>\n",
       "      <td>33</td>\n",
       "      <td>15.0</td>\n",
       "      <td>17.0</td>\n",
       "      <td>2.0</td>\n",
       "      <td>4.0</td>\n",
       "      <td>1.0</td>\n",
       "      <td>2.0</td>\n",
       "      <td>0.0</td>\n",
       "      <td>...</td>\n",
       "      <td>casada</td>\n",
       "      <td>preparatoria_completa</td>\n",
       "      <td>ama_de_casa</td>\n",
       "      <td>conyuge</td>\n",
       "      <td>estado_de_mexico</td>\n",
       "      <td>ninguno</td>\n",
       "      <td>misoprostol</td>\n",
       "      <td>si</td>\n",
       "      <td>NaN</td>\n",
       "      <td>1</td>\n",
       "    </tr>\n",
       "    <tr>\n",
       "      <th>4</th>\n",
       "      <td>2018</td>\n",
       "      <td>7</td>\n",
       "      <td>23</td>\n",
       "      <td>12.0</td>\n",
       "      <td>16.0</td>\n",
       "      <td>1.0</td>\n",
       "      <td>2.0</td>\n",
       "      <td>0.0</td>\n",
       "      <td>1.0</td>\n",
       "      <td>0.0</td>\n",
       "      <td>...</td>\n",
       "      <td>union_libre</td>\n",
       "      <td>preparatoria_completa</td>\n",
       "      <td>NaN</td>\n",
       "      <td>NaN</td>\n",
       "      <td>ciudad_de_mexico</td>\n",
       "      <td>condon</td>\n",
       "      <td>misoprostol</td>\n",
       "      <td>NaN</td>\n",
       "      <td>implante_subdermico</td>\n",
       "      <td>1</td>\n",
       "    </tr>\n",
       "  </tbody>\n",
       "</table>\n",
       "<p>5 rows × 24 columns</p>\n",
       "</div>"
      ],
      "text/plain": [
       "    año  cve_hospital  edad  menarca  fsexual  nhijos  gesta  naborto  \\\n",
       "0  2016            10    34     11.0     17.0     1.0    3.0      0.0   \n",
       "1  2016             1    27     11.0     18.0     1.0    3.0      0.0   \n",
       "2  2018             4    29     11.0     15.0     3.0    4.0      0.0   \n",
       "3  2016            10    33     15.0     17.0     2.0    4.0      1.0   \n",
       "4  2018             7    23     12.0     16.0     1.0    2.0      0.0   \n",
       "\n",
       "   npartos  ncesarea  ...  edocivil_descripcion              nivel_edu  \\\n",
       "0      0.0       1.0  ...               soltera      primaria_completa   \n",
       "1      1.0       1.0  ...           union_libre  licenciatura_completa   \n",
       "2      3.0       0.0  ...               soltera    secundaria_completa   \n",
       "3      2.0       0.0  ...                casada  preparatoria_completa   \n",
       "4      1.0       0.0  ...           union_libre  preparatoria_completa   \n",
       "\n",
       "                        ocupacion parentesco           entidad  \\\n",
       "0                     desempleada      amiga  estado_de_mexico   \n",
       "1                          mesera     pareja  ciudad_de_mexico   \n",
       "2  trabajadora_del_sector_publico        NaN  estado_de_mexico   \n",
       "3                     ama_de_casa    conyuge  estado_de_mexico   \n",
       "4                             NaN        NaN  ciudad_de_mexico   \n",
       "\n",
       "                 anticonceptivo                                   procile  \\\n",
       "0  anticoncepcion_de_emergencia                               misoprostol   \n",
       "1                        condon                                aspiracion   \n",
       "2                           diu  mifepristona_200_mg__misoprostol_800_mcg   \n",
       "3                       ninguno                               misoprostol   \n",
       "4                        condon                               misoprostol   \n",
       "\n",
       "  s_complica          panticoncep edad23  \n",
       "0         si                  NaN      1  \n",
       "1         no               condon      1  \n",
       "2        NaN  anticonceptivo_oral      1  \n",
       "3         si                  NaN      1  \n",
       "4        NaN  implante_subdermico      1  \n",
       "\n",
       "[5 rows x 24 columns]"
      ]
     },
     "execution_count": 9,
     "metadata": {},
     "output_type": "execute_result"
    }
   ],
   "source": [
    "# Se eliminan las variables 13 mencionadas como resultado del data profiling\n",
    "\n",
    "variables_eliminar = ['fingreso','autoref','desc_derechohab','religion',\n",
    "        'alc_o_municipio','fmenstrua','consejeria','motiles',\n",
    "        'h_fingreso','desc_servicio','p_consent','sememb','p_diasgesta']\n",
    "ile_reducido = transform_data.eliminar_variables(ile_estandar,variables_eliminar)\n",
    "ile_reducido.head()"
   ]
  },
  {
   "cell_type": "markdown",
   "metadata": {},
   "source": [
    "**Análisis Exploratorio Gráfico e Insights**\n",
    "\n",
    "\n",
    "En este parte del análisis se reportan de manera gráfica los hallazgos encontrados al estudiar las relaciones existentes entre la variable target y las variables predictoras que fueron conservadas después de realizar el data profiling. De manera más específica, Se buscó obtener información que permitiera identificar patrones de comportamiento entre los dos grupos de edades.\n",
    "\n",
    "Como primer punto es conveniente desarrollar información que permita obtener un panorama general de la variable edad, ya que a partir de ésta se creará la variable objetivo."
   ]
  },
  {
   "cell_type": "code",
   "execution_count": 10,
   "metadata": {},
   "outputs": [
    {
     "data": {
      "text/plain": [
       "<matplotlib.lines.Line2D at 0x7f46713271d0>"
      ]
     },
     "execution_count": 10,
     "metadata": {},
     "output_type": "execute_result"
    },
    {
     "data": {
      "image/png": "[encoded data removed]",
      "text/plain": [
       "<Figure size 842.4x595.44 with 1 Axes>"
      ]
     },
     "metadata": {},
     "output_type": "display_data"
    }
   ],
   "source": [
    "# Distribución de edades\n",
    "\n",
    "sms.set(rc = {'figure.figsize':(11.7,8.27)})\n",
    "grafico_edad = sms.countplot(x = \"edad\", data = ile_estandar)\n",
    "grafico_edad.set_xticklabels(grafico_edad.get_xticklabels(),rotation = 70)\n",
    "grafico_edad.set_title('Distribución de edades de ILE',fontsize = 17)\n",
    "plt.axvline(x=23, color ='m')"
   ]
  },
  {
   "cell_type": "markdown",
   "metadata": {},
   "source": [
    "En la gráfica anterior se observa que la edad de las personas que acudieron a realizarse la interrupción legal del embarazo varía entre 11 y 53 años, lo cual indica congruencia con la realidad. Se puede notar la presencia de valores extremos; sin embargo la proporción de observaciones correspondientes es mínima.\n",
    "\n",
    "La distribución de las edades no es simétrica ni alreadedor de la media (25.7), ni alrededor de la edad objetivo (23). En particular se aprecia un mayor volumen de mujeres cuya edad es mayor o igual a 23 años, el cual representa el 63.99% del total de observaciones.\n",
    "\n",
    "\n",
    "Intuitivamente la variable relacionada con la edad de inicio de la vida sexual activa (fsexual) debería marcar una pauta entre los grupos de edades en cuestión. La gráfica que se muestra a continuación demuestra la presencia de dicho patrón."
   ]
  },
  {
   "cell_type": "code",
   "execution_count": 11,
   "metadata": {},
   "outputs": [
    {
     "data": {
      "text/plain": [
       "Text(0.5, 1.0, 'Edad de incio de relaciones sexuales por grupo de edad')"
      ]
     },
     "execution_count": 11,
     "metadata": {},
     "output_type": "execute_result"
    },
    {
     "data": {
      "image/png": "[encoded data removed]",
      "text/plain": [
       "<Figure size 842.4x595.44 with 1 Axes>"
      ]
     },
     "metadata": {},
     "output_type": "display_data"
    }
   ],
   "source": [
    "# Edad de inicio de relaciones sexuales por grupo de edad (mayor o igual a 23 o menor)\n",
    "\n",
    "sms.set(rc = {'figure.figsize':(11.7,8.27)})\n",
    "grafico_fsexual = sms.countplot(x = 'fsexual',hue = 'edad23',data = ile_estandar.query('fsexual >= 10 and fsexual<=27'), palette= [\"#9b59b6\", \"#3498db\", \"#95a5a6\", \"#e74c3c\", \"#34495e\", \"#2ecc71\"])\n",
    "grafico_fsexual.set_xticklabels(grafico_fsexual.get_xticklabels(), rotation = 90)\n",
    "grafico_fsexual.set_title('Edad de incio de relaciones sexuales por grupo de edad',fontsize = 17)"
   ]
  },
  {
   "cell_type": "markdown",
   "metadata": {},
   "source": [
    "Con base en lo anterior se observa que el grupo menor a 23 años inicia su vida sexual activa antes que el grupo mayor o igual a 23 años.\n",
    "\n",
    "Otra variable que sugiere relevancia en el análisis corresponde al número de hijos (nhijos). En principio el número de hijos del grupo menor a 23 años debería ser menor que el grupo mayor o igual a 23 años. Esta suposición es sustentada por la siguiente gráfica."
   ]
  },
  {
   "cell_type": "code",
   "execution_count": 12,
   "metadata": {},
   "outputs": [
    {
     "data": {
      "text/plain": [
       "Text(0.5, 1.0, 'Distribución del números de hijos por grupo de edad')"
      ]
     },
     "execution_count": 12,
     "metadata": {},
     "output_type": "execute_result"
    },
    {
     "data": {
      "image/png": "[encoded data removed]",
      "text/plain": [
       "<Figure size 842.4x595.44 with 1 Axes>"
      ]
     },
     "metadata": {},
     "output_type": "display_data"
    }
   ],
   "source": [
    "# Número de hijos por grupo de edad\n",
    "\n",
    "grafico_hijos = sms.countplot(x = 'nhijos',hue = 'edad23',data = ile_estandar.query('nhijos<=6'))\n",
    "grafico_hijos.set_title('Distribución del números de hijos por grupo de edad',fontsize=17)"
   ]
  },
  {
   "cell_type": "markdown",
   "metadata": {},
   "source": [
    "Una variable más que podría mostrar conductas por cada grupo de edad, corresponde al número de embarazos incluyendo abortos (gesta)."
   ]
  },
  {
   "cell_type": "code",
   "execution_count": 13,
   "metadata": {},
   "outputs": [
    {
     "data": {
      "text/plain": [
       "Text(0.5, 1.0, 'Distribución del número de embarazos por grupo de edad')"
      ]
     },
     "execution_count": 13,
     "metadata": {},
     "output_type": "execute_result"
    },
    {
     "data": {
      "image/png": "[encoded data removed]",
      "text/plain": [
       "<Figure size 842.4x595.44 with 1 Axes>"
      ]
     },
     "metadata": {},
     "output_type": "display_data"
    }
   ],
   "source": [
    "# Número de embarazos (incluyendo abortos) por grupo de edad\n",
    "\n",
    "grafico_gesta = sms.countplot(x = 'gesta',hue = 'edad23',data = ile_estandar.query('gesta <= 7'))\n",
    "grafico_gesta.set_title('Distribución del número de embarazos por grupo de edad',fontsize=17)"
   ]
  },
  {
   "cell_type": "markdown",
   "metadata": {},
   "source": [
    "La grafica anterior da crédito a la noción planteada puesto que se observa una concentración del grupomenor a 23 años en '1'. Nótese que '1' representa el embarazo actual de la mujer. \n",
    "\n",
    "Por último se pone atención a la ocupación de los dos grupos de edades, pues tiene sentido inferir que la\n",
    "mayoría de las mujeres menores a 23 años son estudiantes."
   ]
  },
  {
   "cell_type": "code",
   "execution_count": 14,
   "metadata": {},
   "outputs": [
    {
     "data": {
      "text/plain": [
       "Text(0.5, 1.0, 'Distribución de ocupacion de ILE')"
      ]
     },
     "execution_count": 14,
     "metadata": {},
     "output_type": "execute_result"
    },
    {
     "data": {
      "image/png": "[encoded data removed]",
      "text/plain": [
       "<Figure size 842.4x595.44 with 1 Axes>"
      ]
     },
     "metadata": {},
     "output_type": "display_data"
    }
   ],
   "source": [
    "# Top 5 de ocupaciones por grupo de edad\n",
    "\n",
    "grafico_ocupacion = sms.countplot(x = 'ocupacion',hue = 'edad23',data = ile_estandar.query('ocupacion'+' in (\\'ama_de_casa\\', \\'NaN\\', \\'estudiante\\',\\'empleada\\',\\'comerciante\\' )'))\n",
    "grafico_ocupacion.set_xticklabels(grafico_ocupacion.get_xticklabels(), rotation = 90)\n",
    "grafico_ocupacion.set_title('Distribución de ocupacion de ILE',fontsize=17)"
   ]
  },
  {
   "cell_type": "markdown",
   "metadata": {},
   "source": [
    "A manera de conclusión del análisis exploratorio, se presentan los siguientes insights:\n",
    "\n",
    "+ Existe una relación entre la edad de inicio de la vida sexual y la edad de la mujer, siendo más\n",
    "probable que la edad de ésta sea menor a 23 cuando su vida sexual inicia alrededor de los 15 años.\n",
    "\n",
    "+ El número de interrupciones legales de embarazo en los dos grupos de edad se mantiene constante\n",
    "en el periodo 2016 - 2018; sin embargo la frecuencia disminuye durante el mes de diciembre y se\n",
    "incrementa en el mes de enero del año consecutivo.\n",
    "\n",
    "+ En relación a la ocupación del grupo menor a 23 años, se detecta que las que son estudiantes\n",
    "tienden a esperar más tiempo para llevar cabo la interrupción legal del embarazo, que lasestudiantes pertenecientes al otro grupo de edad.\n",
    "\n",
    "+ Existe una relación entre el número de hijos que tienen las mujeres mayores a 23; el 74% de ellas\n",
    "ya tiene un hijo al momento de llevar a cabo la ILE.\n",
    "\n",
    "+ La Secretaría de Salud de la Ciudad de México señala como uno de los requisitos para llevar cabo la\n",
    "Interrupción Legal del Embarazo, que la mujer debe acudir con un acompañante; el cual en el caso\n",
    "de las menores de edad debe ser la madre, el padre, tutor o representante legal. Se observa un\n",
    "área de oportunidad en el registro de esta información pues el 67.5% de las observaciones no\n",
    "cuenta con este dato. De contar con esta información, la variable parentesco podría posicionarse\n",
    "dentro de las más representativas al momento de llevar a cabo la predicción."
   ]
  },
  {
   "cell_type": "markdown",
   "metadata": {},
   "source": [
    "#### **2. Selección de Variables**\n",
    "\n",
    "Los resultados obtenidos a través del EDA permitieron iniciar el Feature Selection con un dataset compuesto por 22 variables.\n",
    "\n",
    "Dentro de esta sección se implementó un algoritmo de Bosques Aleatorios con la finalidad de seleccionar las variables más relevantes para llevar a cabo la predicción objetivo. \n",
    "\n",
    "A manera de resumen el proceso que se siguió para llegar a la selección de variables es el siguiente:\n",
    "\n",
    " + Aplicación de One Hot Encoding a las variables categóricas\n",
    " + Definición de las variables predictoras y variable target\n",
    " + Creación de los conjuntos de entrenamiento y prueba\n",
    " + Imputación de valores faltantes para cada conjunto\n",
    " + Implementación del algoritmo de Bosques Aleatorios\n",
    " + Creación de los dataset (entrenamiento y prueba) con las variables más relevantes\n"
   ]
  },
  {
   "cell_type": "markdown",
   "metadata": {},
   "source": [
    "**One Hot Encoding**"
   ]
  },
  {
   "cell_type": "code",
   "execution_count": 15,
   "metadata": {},
   "outputs": [
    {
     "name": "stdout",
     "output_type": "stream",
     "text": [
      "Original Features:\n",
      " ['año', 'cve_hospital', 'edad', 'menarca', 'fsexual', 'nhijos', 'gesta', 'naborto', 'npartos', 'ncesarea', 'nile', 'c_num', 'p_semgest', 'mes', 'edocivil_descripcion', 'nivel_edu', 'ocupacion', 'parentesco', 'entidad', 'anticonceptivo', 'procile', 's_complica', 'panticoncep', 'edad23'] \n",
      "\n"
     ]
    },
    {
     "data": {
      "text/html": [
       "<div>\n",
       "<style scoped>\n",
       "    .dataframe tbody tr th:only-of-type {\n",
       "        vertical-align: middle;\n",
       "    }\n",
       "\n",
       "    .dataframe tbody tr th {\n",
       "        vertical-align: top;\n",
       "    }\n",
       "\n",
       "    .dataframe thead th {\n",
       "        text-align: right;\n",
       "    }\n",
       "</style>\n",
       "<table border=\"1\" class=\"dataframe\">\n",
       "  <thead>\n",
       "    <tr style=\"text-align: right;\">\n",
       "      <th></th>\n",
       "      <th>año</th>\n",
       "      <th>cve_hospital</th>\n",
       "      <th>edad</th>\n",
       "      <th>menarca</th>\n",
       "      <th>fsexual</th>\n",
       "      <th>nhijos</th>\n",
       "      <th>gesta</th>\n",
       "      <th>naborto</th>\n",
       "      <th>npartos</th>\n",
       "      <th>ncesarea</th>\n",
       "      <th>...</th>\n",
       "      <th>panticoncep_diu_t_de_cobre__parches</th>\n",
       "      <th>panticoncep_hormonal_inyectable</th>\n",
       "      <th>panticoncep_implante_subdermico</th>\n",
       "      <th>panticoncep_implante_subdermico__parches</th>\n",
       "      <th>panticoncep_inyeccion__parches</th>\n",
       "      <th>panticoncep_ne</th>\n",
       "      <th>panticoncep_ninguno</th>\n",
       "      <th>panticoncep_otb</th>\n",
       "      <th>panticoncep_otro</th>\n",
       "      <th>panticoncep_parche</th>\n",
       "    </tr>\n",
       "  </thead>\n",
       "  <tbody>\n",
       "    <tr>\n",
       "      <th>0</th>\n",
       "      <td>2016</td>\n",
       "      <td>10</td>\n",
       "      <td>34</td>\n",
       "      <td>11.0</td>\n",
       "      <td>17.0</td>\n",
       "      <td>1.0</td>\n",
       "      <td>3.0</td>\n",
       "      <td>0.0</td>\n",
       "      <td>0.0</td>\n",
       "      <td>1.0</td>\n",
       "      <td>...</td>\n",
       "      <td>0</td>\n",
       "      <td>0</td>\n",
       "      <td>0</td>\n",
       "      <td>0</td>\n",
       "      <td>0</td>\n",
       "      <td>0</td>\n",
       "      <td>0</td>\n",
       "      <td>0</td>\n",
       "      <td>0</td>\n",
       "      <td>0</td>\n",
       "    </tr>\n",
       "    <tr>\n",
       "      <th>1</th>\n",
       "      <td>2016</td>\n",
       "      <td>1</td>\n",
       "      <td>27</td>\n",
       "      <td>11.0</td>\n",
       "      <td>18.0</td>\n",
       "      <td>1.0</td>\n",
       "      <td>3.0</td>\n",
       "      <td>0.0</td>\n",
       "      <td>1.0</td>\n",
       "      <td>1.0</td>\n",
       "      <td>...</td>\n",
       "      <td>0</td>\n",
       "      <td>0</td>\n",
       "      <td>0</td>\n",
       "      <td>0</td>\n",
       "      <td>0</td>\n",
       "      <td>0</td>\n",
       "      <td>0</td>\n",
       "      <td>0</td>\n",
       "      <td>0</td>\n",
       "      <td>0</td>\n",
       "    </tr>\n",
       "    <tr>\n",
       "      <th>2</th>\n",
       "      <td>2018</td>\n",
       "      <td>4</td>\n",
       "      <td>29</td>\n",
       "      <td>11.0</td>\n",
       "      <td>15.0</td>\n",
       "      <td>3.0</td>\n",
       "      <td>4.0</td>\n",
       "      <td>0.0</td>\n",
       "      <td>3.0</td>\n",
       "      <td>0.0</td>\n",
       "      <td>...</td>\n",
       "      <td>0</td>\n",
       "      <td>0</td>\n",
       "      <td>0</td>\n",
       "      <td>0</td>\n",
       "      <td>0</td>\n",
       "      <td>0</td>\n",
       "      <td>0</td>\n",
       "      <td>0</td>\n",
       "      <td>0</td>\n",
       "      <td>0</td>\n",
       "    </tr>\n",
       "    <tr>\n",
       "      <th>3</th>\n",
       "      <td>2016</td>\n",
       "      <td>10</td>\n",
       "      <td>33</td>\n",
       "      <td>15.0</td>\n",
       "      <td>17.0</td>\n",
       "      <td>2.0</td>\n",
       "      <td>4.0</td>\n",
       "      <td>1.0</td>\n",
       "      <td>2.0</td>\n",
       "      <td>0.0</td>\n",
       "      <td>...</td>\n",
       "      <td>0</td>\n",
       "      <td>0</td>\n",
       "      <td>0</td>\n",
       "      <td>0</td>\n",
       "      <td>0</td>\n",
       "      <td>0</td>\n",
       "      <td>0</td>\n",
       "      <td>0</td>\n",
       "      <td>0</td>\n",
       "      <td>0</td>\n",
       "    </tr>\n",
       "    <tr>\n",
       "      <th>4</th>\n",
       "      <td>2018</td>\n",
       "      <td>7</td>\n",
       "      <td>23</td>\n",
       "      <td>12.0</td>\n",
       "      <td>16.0</td>\n",
       "      <td>1.0</td>\n",
       "      <td>2.0</td>\n",
       "      <td>0.0</td>\n",
       "      <td>1.0</td>\n",
       "      <td>0.0</td>\n",
       "      <td>...</td>\n",
       "      <td>0</td>\n",
       "      <td>0</td>\n",
       "      <td>1</td>\n",
       "      <td>0</td>\n",
       "      <td>0</td>\n",
       "      <td>0</td>\n",
       "      <td>0</td>\n",
       "      <td>0</td>\n",
       "      <td>0</td>\n",
       "      <td>0</td>\n",
       "    </tr>\n",
       "  </tbody>\n",
       "</table>\n",
       "<p>5 rows × 270 columns</p>\n",
       "</div>"
      ],
      "text/plain": [
       "    año  cve_hospital  edad  menarca  fsexual  nhijos  gesta  naborto  \\\n",
       "0  2016            10    34     11.0     17.0     1.0    3.0      0.0   \n",
       "1  2016             1    27     11.0     18.0     1.0    3.0      0.0   \n",
       "2  2018             4    29     11.0     15.0     3.0    4.0      0.0   \n",
       "3  2016            10    33     15.0     17.0     2.0    4.0      1.0   \n",
       "4  2018             7    23     12.0     16.0     1.0    2.0      0.0   \n",
       "\n",
       "   npartos  ncesarea  ...  panticoncep_diu_t_de_cobre__parches  \\\n",
       "0      0.0       1.0  ...                                    0   \n",
       "1      1.0       1.0  ...                                    0   \n",
       "2      3.0       0.0  ...                                    0   \n",
       "3      2.0       0.0  ...                                    0   \n",
       "4      1.0       0.0  ...                                    0   \n",
       "\n",
       "   panticoncep_hormonal_inyectable  panticoncep_implante_subdermico  \\\n",
       "0                                0                                0   \n",
       "1                                0                                0   \n",
       "2                                0                                0   \n",
       "3                                0                                0   \n",
       "4                                0                                1   \n",
       "\n",
       "   panticoncep_implante_subdermico__parches  panticoncep_inyeccion__parches  \\\n",
       "0                                         0                               0   \n",
       "1                                         0                               0   \n",
       "2                                         0                               0   \n",
       "3                                         0                               0   \n",
       "4                                         0                               0   \n",
       "\n",
       "   panticoncep_ne  panticoncep_ninguno  panticoncep_otb  panticoncep_otro  \\\n",
       "0               0                    0                0                 0   \n",
       "1               0                    0                0                 0   \n",
       "2               0                    0                0                 0   \n",
       "3               0                    0                0                 0   \n",
       "4               0                    0                0                 0   \n",
       "\n",
       "   panticoncep_parche  \n",
       "0                   0  \n",
       "1                   0  \n",
       "2                   0  \n",
       "3                   0  \n",
       "4                   0  \n",
       "\n",
       "[5 rows x 270 columns]"
      ]
     },
     "execution_count": 15,
     "metadata": {},
     "output_type": "execute_result"
    }
   ],
   "source": [
    "# Se aplica One Hot Encoding a las variables categóricas\n",
    "\n",
    "print('Original Features:\\n', list(ile_reducido.columns), '\\n')\n",
    "ile_dummies = pd.get_dummies(ile_reducido)\n",
    "ile_dummies.head()"
   ]
  },
  {
   "cell_type": "markdown",
   "metadata": {},
   "source": [
    "**Datos Entrenamiento y Datos Prueba**"
   ]
  },
  {
   "cell_type": "code",
   "execution_count": 16,
   "metadata": {},
   "outputs": [
    {
     "data": {
      "text/html": [
       "<div>\n",
       "<style scoped>\n",
       "    .dataframe tbody tr th:only-of-type {\n",
       "        vertical-align: middle;\n",
       "    }\n",
       "\n",
       "    .dataframe tbody tr th {\n",
       "        vertical-align: top;\n",
       "    }\n",
       "\n",
       "    .dataframe thead th {\n",
       "        text-align: right;\n",
       "    }\n",
       "</style>\n",
       "<table border=\"1\" class=\"dataframe\">\n",
       "  <thead>\n",
       "    <tr style=\"text-align: right;\">\n",
       "      <th></th>\n",
       "      <th>año</th>\n",
       "      <th>cve_hospital</th>\n",
       "      <th>menarca</th>\n",
       "      <th>fsexual</th>\n",
       "      <th>nhijos</th>\n",
       "      <th>gesta</th>\n",
       "      <th>naborto</th>\n",
       "      <th>npartos</th>\n",
       "      <th>ncesarea</th>\n",
       "      <th>nile</th>\n",
       "      <th>...</th>\n",
       "      <th>panticoncep_diu_t_de_cobre__parches</th>\n",
       "      <th>panticoncep_hormonal_inyectable</th>\n",
       "      <th>panticoncep_implante_subdermico</th>\n",
       "      <th>panticoncep_implante_subdermico__parches</th>\n",
       "      <th>panticoncep_inyeccion__parches</th>\n",
       "      <th>panticoncep_ne</th>\n",
       "      <th>panticoncep_ninguno</th>\n",
       "      <th>panticoncep_otb</th>\n",
       "      <th>panticoncep_otro</th>\n",
       "      <th>panticoncep_parche</th>\n",
       "    </tr>\n",
       "  </thead>\n",
       "  <tbody>\n",
       "    <tr>\n",
       "      <th>0</th>\n",
       "      <td>2016</td>\n",
       "      <td>10</td>\n",
       "      <td>11.0</td>\n",
       "      <td>17.0</td>\n",
       "      <td>1.0</td>\n",
       "      <td>3.0</td>\n",
       "      <td>0.0</td>\n",
       "      <td>0.0</td>\n",
       "      <td>1.0</td>\n",
       "      <td>1.0</td>\n",
       "      <td>...</td>\n",
       "      <td>0</td>\n",
       "      <td>0</td>\n",
       "      <td>0</td>\n",
       "      <td>0</td>\n",
       "      <td>0</td>\n",
       "      <td>0</td>\n",
       "      <td>0</td>\n",
       "      <td>0</td>\n",
       "      <td>0</td>\n",
       "      <td>0</td>\n",
       "    </tr>\n",
       "    <tr>\n",
       "      <th>1</th>\n",
       "      <td>2016</td>\n",
       "      <td>1</td>\n",
       "      <td>11.0</td>\n",
       "      <td>18.0</td>\n",
       "      <td>1.0</td>\n",
       "      <td>3.0</td>\n",
       "      <td>0.0</td>\n",
       "      <td>1.0</td>\n",
       "      <td>1.0</td>\n",
       "      <td>0.0</td>\n",
       "      <td>...</td>\n",
       "      <td>0</td>\n",
       "      <td>0</td>\n",
       "      <td>0</td>\n",
       "      <td>0</td>\n",
       "      <td>0</td>\n",
       "      <td>0</td>\n",
       "      <td>0</td>\n",
       "      <td>0</td>\n",
       "      <td>0</td>\n",
       "      <td>0</td>\n",
       "    </tr>\n",
       "    <tr>\n",
       "      <th>2</th>\n",
       "      <td>2018</td>\n",
       "      <td>4</td>\n",
       "      <td>11.0</td>\n",
       "      <td>15.0</td>\n",
       "      <td>3.0</td>\n",
       "      <td>4.0</td>\n",
       "      <td>0.0</td>\n",
       "      <td>3.0</td>\n",
       "      <td>0.0</td>\n",
       "      <td>0.0</td>\n",
       "      <td>...</td>\n",
       "      <td>0</td>\n",
       "      <td>0</td>\n",
       "      <td>0</td>\n",
       "      <td>0</td>\n",
       "      <td>0</td>\n",
       "      <td>0</td>\n",
       "      <td>0</td>\n",
       "      <td>0</td>\n",
       "      <td>0</td>\n",
       "      <td>0</td>\n",
       "    </tr>\n",
       "    <tr>\n",
       "      <th>3</th>\n",
       "      <td>2016</td>\n",
       "      <td>10</td>\n",
       "      <td>15.0</td>\n",
       "      <td>17.0</td>\n",
       "      <td>2.0</td>\n",
       "      <td>4.0</td>\n",
       "      <td>1.0</td>\n",
       "      <td>2.0</td>\n",
       "      <td>0.0</td>\n",
       "      <td>0.0</td>\n",
       "      <td>...</td>\n",
       "      <td>0</td>\n",
       "      <td>0</td>\n",
       "      <td>0</td>\n",
       "      <td>0</td>\n",
       "      <td>0</td>\n",
       "      <td>0</td>\n",
       "      <td>0</td>\n",
       "      <td>0</td>\n",
       "      <td>0</td>\n",
       "      <td>0</td>\n",
       "    </tr>\n",
       "    <tr>\n",
       "      <th>4</th>\n",
       "      <td>2018</td>\n",
       "      <td>7</td>\n",
       "      <td>12.0</td>\n",
       "      <td>16.0</td>\n",
       "      <td>1.0</td>\n",
       "      <td>2.0</td>\n",
       "      <td>0.0</td>\n",
       "      <td>1.0</td>\n",
       "      <td>0.0</td>\n",
       "      <td>0.0</td>\n",
       "      <td>...</td>\n",
       "      <td>0</td>\n",
       "      <td>0</td>\n",
       "      <td>1</td>\n",
       "      <td>0</td>\n",
       "      <td>0</td>\n",
       "      <td>0</td>\n",
       "      <td>0</td>\n",
       "      <td>0</td>\n",
       "      <td>0</td>\n",
       "      <td>0</td>\n",
       "    </tr>\n",
       "  </tbody>\n",
       "</table>\n",
       "<p>5 rows × 268 columns</p>\n",
       "</div>"
      ],
      "text/plain": [
       "    año  cve_hospital  menarca  fsexual  nhijos  gesta  naborto  npartos  \\\n",
       "0  2016            10     11.0     17.0     1.0    3.0      0.0      0.0   \n",
       "1  2016             1     11.0     18.0     1.0    3.0      0.0      1.0   \n",
       "2  2018             4     11.0     15.0     3.0    4.0      0.0      3.0   \n",
       "3  2016            10     15.0     17.0     2.0    4.0      1.0      2.0   \n",
       "4  2018             7     12.0     16.0     1.0    2.0      0.0      1.0   \n",
       "\n",
       "   ncesarea  nile  ...  panticoncep_diu_t_de_cobre__parches  \\\n",
       "0       1.0   1.0  ...                                    0   \n",
       "1       1.0   0.0  ...                                    0   \n",
       "2       0.0   0.0  ...                                    0   \n",
       "3       0.0   0.0  ...                                    0   \n",
       "4       0.0   0.0  ...                                    0   \n",
       "\n",
       "   panticoncep_hormonal_inyectable  panticoncep_implante_subdermico  \\\n",
       "0                                0                                0   \n",
       "1                                0                                0   \n",
       "2                                0                                0   \n",
       "3                                0                                0   \n",
       "4                                0                                1   \n",
       "\n",
       "   panticoncep_implante_subdermico__parches  panticoncep_inyeccion__parches  \\\n",
       "0                                         0                               0   \n",
       "1                                         0                               0   \n",
       "2                                         0                               0   \n",
       "3                                         0                               0   \n",
       "4                                         0                               0   \n",
       "\n",
       "   panticoncep_ne  panticoncep_ninguno  panticoncep_otb  panticoncep_otro  \\\n",
       "0               0                    0                0                 0   \n",
       "1               0                    0                0                 0   \n",
       "2               0                    0                0                 0   \n",
       "3               0                    0                0                 0   \n",
       "4               0                    0                0                 0   \n",
       "\n",
       "   panticoncep_parche  \n",
       "0                   0  \n",
       "1                   0  \n",
       "2                   0  \n",
       "3                   0  \n",
       "4                   0  \n",
       "\n",
       "[5 rows x 268 columns]"
      ]
     },
     "execution_count": 16,
     "metadata": {},
     "output_type": "execute_result"
    }
   ],
   "source": [
    "# Definición de la matriz de diseño y la variable target\n",
    "\n",
    "variables_edad = ['edad23','edad']\n",
    "X = transform_data.eliminar_variables(ile_dummies,variables_edad)\n",
    "y = ile_dummies.edad23\n",
    "X.head()\n"
   ]
  },
  {
   "cell_type": "code",
   "execution_count": 17,
   "metadata": {},
   "outputs": [
    {
     "data": {
      "text/plain": [
       "Index(['año', 'cve_hospital', 'menarca', 'fsexual', 'nhijos', 'gesta',\n",
       "       'naborto', 'npartos', 'ncesarea', 'nile',\n",
       "       ...\n",
       "       'panticoncep_diu_t_de_cobre__parches',\n",
       "       'panticoncep_hormonal_inyectable', 'panticoncep_implante_subdermico',\n",
       "       'panticoncep_implante_subdermico__parches',\n",
       "       'panticoncep_inyeccion__parches', 'panticoncep_ne',\n",
       "       'panticoncep_ninguno', 'panticoncep_otb', 'panticoncep_otro',\n",
       "       'panticoncep_parche'],\n",
       "      dtype='object', length=268)"
      ]
     },
     "execution_count": 17,
     "metadata": {},
     "output_type": "execute_result"
    }
   ],
   "source": [
    "# Se almacenan los nombres de las columnas de la matriz de diseño, las cuáles serán\n",
    "# utilizadas más adelante\n",
    "\n",
    "etiquetas = X.columns\n",
    "etiquetas"
   ]
  },
  {
   "cell_type": "code",
   "execution_count": 18,
   "metadata": {},
   "outputs": [
    {
     "name": "stdout",
     "output_type": "stream",
     "text": [
      "Tamaño datos de entrenamiento (49602, 268)\n",
      "Tamaño datos de prueba (12401, 268)\n",
      "Tamaño target de entrenamiento (49602,)\n",
      "Tamaño target de prueba (12401,)\n"
     ]
    }
   ],
   "source": [
    "# Se dividen los datos en 20% de prueba y 80% de entrenamiento\n",
    "\n",
    "X_train, X_test, y_train, y_test = train_test_split(X, y, test_size=0.2, random_state=0)\n",
    "\n",
    "print('Tamaño datos de entrenamiento',X_train.shape)\n",
    "print('Tamaño datos de prueba',X_test.shape)\n",
    "print('Tamaño target de entrenamiento',y_train.shape)\n",
    "print('Tamaño target de prueba',y_test.shape)"
   ]
  },
  {
   "cell_type": "markdown",
   "metadata": {},
   "source": [
    "**Imputación de valores faltantes**\n",
    "\n",
    "La imputación de los valores faltantes tanto del conjunto de entrenamiento como del conjunto de prueba se llevó a cabo sobre las variables numéricas: menarca', 'fsexual', 'nhijos', 'gesta', 'naborto', 'npartos', 'ncesarea', 'nile', 'c_num' y'p_semgest'. Se determinó que la imputación debía realizarse considerando la mediana de cada variable,de esta forma se tendría un valor \"neutro\" y se evitaría crear un sesgo debido a la presencia de valores extremos (outliers).\n",
    "\n",
    "Es importante mencionar que la imputación en ambos conjuntos debe realizarse con los valores de la mediana de cada variable del conjunto de entrenamiento, pues de otra forma se estaría realizando $data leaking$."
   ]
  },
  {
   "cell_type": "code",
   "execution_count": 19,
   "metadata": {},
   "outputs": [
    {
     "name": "stdout",
     "output_type": "stream",
     "text": [
      "[ColumnTransformer]  (1 of 11) Processing impute_menarca, total=   0.0s\n",
      "[ColumnTransformer]  (2 of 11) Processing impute_fsexual, total=   0.0s\n",
      "[ColumnTransformer]  (3 of 11) Processing impute_nhijos, total=   0.0s\n",
      "[ColumnTransformer] . (4 of 11) Processing impute_gesta, total=   0.0s\n",
      "[ColumnTransformer]  (5 of 11) Processing impute_naborto, total=   0.0s\n",
      "[ColumnTransformer]  (6 of 11) Processing impute_npartos, total=   0.0s\n",
      "[ColumnTransformer]  (7 of 11) Processing impute_ncesarea, total=   0.0s\n",
      "[ColumnTransformer] .. (8 of 11) Processing impute_nile, total=   0.0s\n",
      "[ColumnTransformer] . (9 of 11) Processing impute_c_num, total=   0.0s\n",
      "[ColumnTransformer]  (10 of 11) Processing impute_p_semgest, total=   0.0s\n",
      "[ColumnTransformer] ... (11 of 11) Processing remainder, total=   0.0s\n"
     ]
    }
   ],
   "source": [
    "#Se imputan los valores faltantes de X_train de las variables numéricas\n",
    "\n",
    "transformers = [\n",
    "                ('impute_menarca', SimpleImputer(strategy=\"median\"), ['menarca']),\n",
    "                ('impute_fsexual', SimpleImputer(strategy=\"median\"), ['fsexual']),\n",
    "                ('impute_nhijos', SimpleImputer(strategy=\"median\"), ['nhijos']),\n",
    "                ('impute_gesta', SimpleImputer(strategy=\"median\"), ['gesta']),\n",
    "                ('impute_naborto', SimpleImputer(strategy=\"median\"), ['naborto']),\n",
    "                ('impute_npartos', SimpleImputer(strategy=\"median\"), ['npartos']),\n",
    "                ('impute_ncesarea', SimpleImputer(strategy=\"median\"), ['ncesarea']),\n",
    "                ('impute_nile', SimpleImputer(strategy=\"median\"), ['nile']),\n",
    "                ('impute_c_num', SimpleImputer(strategy=\"median\"), ['c_num']),\n",
    "                ('impute_p_semgest', SimpleImputer(strategy=\"median\"), ['p_semgest'])]\n",
    "               \n",
    "\n",
    "col_trans = ColumnTransformer(transformers, remainder=\"passthrough\", n_jobs=1, verbose=True)\n",
    "col_trans.fit(X_train)\n",
    "X_train2 = col_trans.transform(X_train)"
   ]
  },
  {
   "cell_type": "code",
   "execution_count": 20,
   "metadata": {},
   "outputs": [
    {
     "name": "stdout",
     "output_type": "stream",
     "text": [
      "[ColumnTransformer]  (1 of 11) Processing impute_menarca, total=   0.0s\n",
      "[ColumnTransformer]  (2 of 11) Processing impute_fsexual, total=   0.0s\n",
      "[ColumnTransformer]  (3 of 11) Processing impute_nhijos, total=   0.0s\n",
      "[ColumnTransformer] . (4 of 11) Processing impute_gesta, total=   0.0s\n",
      "[ColumnTransformer]  (5 of 11) Processing impute_naborto, total=   0.0s\n",
      "[ColumnTransformer]  (6 of 11) Processing impute_npartos, total=   0.0s\n",
      "[ColumnTransformer]  (7 of 11) Processing impute_ncesarea, total=   0.0s\n",
      "[ColumnTransformer] .. (8 of 11) Processing impute_nile, total=   0.0s\n",
      "[ColumnTransformer] . (9 of 11) Processing impute_c_num, total=   0.0s\n",
      "[ColumnTransformer]  (10 of 11) Processing impute_p_semgest, total=   0.0s\n",
      "[ColumnTransformer] ... (11 of 11) Processing remainder, total=   0.0s\n"
     ]
    }
   ],
   "source": [
    "#Se imputan los valores faltantes de X_test\n",
    "\n",
    "transformers = [#('impute_sememb', SimpleImputer(strategy=\"median\"), ['sememb']),\n",
    "                ('impute_menarca', SimpleImputer(strategy=\"median\"), ['menarca']),\n",
    "                ('impute_fsexual', SimpleImputer(strategy=\"median\"), ['fsexual']),\n",
    "                ('impute_nhijos', SimpleImputer(strategy=\"median\"), ['nhijos']),\n",
    "                ('impute_gesta', SimpleImputer(strategy=\"median\"), ['gesta']),\n",
    "                ('impute_naborto', SimpleImputer(strategy=\"median\"), ['naborto']),\n",
    "                ('impute_npartos', SimpleImputer(strategy=\"median\"), ['npartos']),\n",
    "                ('impute_ncesarea', SimpleImputer(strategy=\"median\"), ['ncesarea']),\n",
    "                ('impute_nile', SimpleImputer(strategy=\"median\"), ['nile']),\n",
    "                ('impute_c_num', SimpleImputer(strategy=\"median\"), ['c_num']),\n",
    "                ('impute_p_semgest', SimpleImputer(strategy=\"median\"), ['p_semgest'])]\n",
    "               #('impute_p_diasgesta', SimpleImputer(strategy=\"median\"), ['p_diasgesta'])]\n",
    "\n",
    "col_trans = ColumnTransformer(transformers, remainder=\"passthrough\", n_jobs=1, verbose=True)\n",
    "col_trans.fit(X_train)\n",
    "X_test2 = col_trans.transform(X_test)"
   ]
  },
  {
   "cell_type": "code",
   "execution_count": 21,
   "metadata": {},
   "outputs": [
    {
     "data": {
      "text/plain": [
       "'menarca'"
      ]
     },
     "execution_count": 21,
     "metadata": {},
     "output_type": "execute_result"
    }
   ],
   "source": [
    "# Nombres de las columnas despúes de haber hecho la imputación\n",
    "\n",
    "# Nombre de las columnas imputadas\n",
    "transf_labels = ['menarca',\n",
    "               'fsexual',\n",
    "                'nhijos',\n",
    "                'gesta',\n",
    "                'naborto',\n",
    "                'npartos',\n",
    "                'ncesarea',\n",
    "                'nile',\n",
    "                'c_num',\n",
    "                'p_semgest']\n",
    "\n",
    "# Se eliminan las columnas imputadas del arreglo que contiene el nombre de todas las variables\n",
    "feat_labels_drop = etiquetas.drop(transf_labels)\n",
    "\n",
    "\n",
    "# Se obtiene un nuevo arreglo con nombres de las columnas en el orden adecuado después de\n",
    "# haber hecho la imputación\n",
    "for element in feat_labels_drop:\n",
    "    transf_labels.append(element)\n",
    "    \n",
    "# A manera de ejemplo se imprime el primer elemento del arreglo que contiene los nombres de las columnas    \n",
    "transf_labels[0]"
   ]
  },
  {
   "cell_type": "markdown",
   "metadata": {},
   "source": [
    "**Random Forest para Feature Selection**"
   ]
  },
  {
   "cell_type": "markdown",
   "metadata": {},
   "source": [
    "Para la implementación del algoritmo de Bosques Aleatorios, se utilizó un índice Gini (threshold) de 0.05. Es\n",
    "sabido que para un conjunto de datos con dos clases, el índice Gini varía entre 0 y 0.5; 0 si el conjunto de\n",
    "datos es puro y 0.5 si las dos clases se distribuyen igual. En este conjunto de datos, la distribución de los grupos de\n",
    "edad no es igual, tiene una mayor proporción el grupo de mujeres mayores a 23 años. Con base lo\n",
    "anterior, se justifica el threshold utilizado en el proceso de Feature Selection."
   ]
  },
  {
   "cell_type": "code",
   "execution_count": 22,
   "metadata": {},
   "outputs": [
    {
     "data": {
      "text/plain": [
       "RandomForestClassifier(bootstrap=True, class_weight=None, criterion='gini',\n",
       "                       max_depth=None, max_features='auto', max_leaf_nodes=None,\n",
       "                       min_impurity_decrease=0.0, min_impurity_split=None,\n",
       "                       min_samples_leaf=1, min_samples_split=2,\n",
       "                       min_weight_fraction_leaf=0.0, n_estimators=10, n_jobs=-1,\n",
       "                       oob_score=False, random_state=0, verbose=0,\n",
       "                       warm_start=False)"
      ]
     },
     "execution_count": 22,
     "metadata": {},
     "output_type": "execute_result"
    }
   ],
   "source": [
    "# Se crea el clasificador Random Forest\n",
    "clf_randomForest = RandomForestClassifier(n_estimators=10, random_state=0, n_jobs=-1)\n",
    "\n",
    "# Se entrena al clasificador\n",
    "clf_randomForest.fit(X_train2, y_train)\n",
    "\n",
    "# Se imprimen los nombres y \"gini importance\" para cada variable\n",
    "#for feature in zip(transf_labels, clf.feature_importances_):\n",
    "#    print(feature)"
   ]
  },
  {
   "cell_type": "code",
   "execution_count": 23,
   "metadata": {},
   "outputs": [
    {
     "data": {
      "text/plain": [
       "SelectFromModel(estimator=RandomForestClassifier(bootstrap=True,\n",
       "                                                 class_weight=None,\n",
       "                                                 criterion='gini',\n",
       "                                                 max_depth=None,\n",
       "                                                 max_features='auto',\n",
       "                                                 max_leaf_nodes=None,\n",
       "                                                 min_impurity_decrease=0.0,\n",
       "                                                 min_impurity_split=None,\n",
       "                                                 min_samples_leaf=1,\n",
       "                                                 min_samples_split=2,\n",
       "                                                 min_weight_fraction_leaf=0.0,\n",
       "                                                 n_estimators=10, n_jobs=-1,\n",
       "                                                 oob_score=False,\n",
       "                                                 random_state=0, verbose=0,\n",
       "                                                 warm_start=False),\n",
       "                max_features=None, norm_order=1, prefit=False, threshold=0.05)"
      ]
     },
     "execution_count": 23,
     "metadata": {},
     "output_type": "execute_result"
    }
   ],
   "source": [
    "# Se crea un objecto selector que utilizará el clasificador random forest para\n",
    "# identificar variables que tienen una importancia mayor a cierto valor\n",
    "\n",
    "selector = SelectFromModel(clf_randomForest, threshold=0.05)\n",
    "\n",
    "# Se entrena al selector\n",
    "selector.fit(X_train2, y_train)"
   ]
  },
  {
   "cell_type": "code",
   "execution_count": 24,
   "metadata": {},
   "outputs": [
    {
     "name": "stdout",
     "output_type": "stream",
     "text": [
      "fsexual\n",
      "nhijos\n",
      "gesta\n",
      "npartos\n"
     ]
    }
   ],
   "source": [
    "# Se imprimen los nombres de las variables más relevantes conforme a lo establecido\n",
    "\n",
    "for feature_list_index in selector.get_support(indices=True):\n",
    "    print(transf_labels[feature_list_index])"
   ]
  },
  {
   "cell_type": "markdown",
   "metadata": {},
   "source": [
    "El método anterior seleccionó exclusivamente cuatro variables para generar el modelo de clasificación; las\n",
    "cuáles se enlistan en seguida:\n",
    "\n",
    "+ fsexual\n",
    "+ nhijos\n",
    "+ gesta\n",
    "+ npartos\n",
    "\n",
    "Comparando estas variables con el análisis exploratorio de los datos, se muestra congruencia."
   ]
  },
  {
   "cell_type": "markdown",
   "metadata": {},
   "source": [
    "**Creación del nuevo conjunto de datos**\n",
    "\n",
    "Se procede a construir el conjunto de datos con las variables más relevantes determinadas por el algoritmo de Bosques Aleatorios."
   ]
  },
  {
   "cell_type": "code",
   "execution_count": 25,
   "metadata": {},
   "outputs": [
    {
     "data": {
      "text/plain": [
       "array([17.,  3.,  4.,  2.])"
      ]
     },
     "execution_count": 25,
     "metadata": {},
     "output_type": "execute_result"
    }
   ],
   "source": [
    "# Se transforman los datos para crear un nuevo dataset que contenga únicamente las\n",
    "# variables más relevantes.\n",
    "# Se debe aplicar la transformación a ambos conjuntos: el de prueba y el de entrenamiento\n",
    "\n",
    "X_important_train = selector.transform(X_train2)\n",
    "X_important_test = selector.transform(X_test2)\n",
    "\n",
    "X_important_train[0]"
   ]
  },
  {
   "cell_type": "markdown",
   "metadata": {},
   "source": [
    "#### **3. Modelos**\n",
    "\n",
    "De manera general, en esta sección se generarán tres modelos para llevar a cabo la predicción\n",
    "planteada: Bosques Aleatorios, Árboles de Decisión y XGBoost. Con el propósito de determinar los mejores\n",
    "parámetros para cada uno de ellos, se implementará un magic loop, dentro del cual será incluida la validación cruzada de 5 folds para evitar sobreajuste en el\n",
    "entrenamiento de los modelos. El desempeño de los modelos será monitoreado a través de la métrica:\n",
    "recall.\n",
    "\n",
    "Para este problema en concreto recall representa el cociente de mujeres cuya edad es mayor o igual a 23 en relación al total de mujeres que tienen al menos 23 años (mayor o igual a 23), es decir, recall permite identificar el porcentaje correcto de predicciones del grupo que tiene mayor presencia (mayor a 23 años)\n",
    "en el conjunto de datos disponible."
   ]
  },
  {
   "cell_type": "markdown",
   "metadata": {},
   "source": [
    "**Definición de Modelos y Magic Loop**"
   ]
  },
  {
   "cell_type": "code",
   "execution_count": 26,
   "metadata": {},
   "outputs": [],
   "source": [
    "# Definición de la función seleccionar_modelos, que será la encargada de seleccionar el modelo, dependiendo el nombre que reciba\n",
    "\n",
    "def seleccionar_modelos(lista_modelos):\n",
    "    \n",
    "    config_modelos = np.array([])\n",
    "    for modelo in lista_modelos:\n",
    "        \n",
    "        if modelo =='DECTREE':\n",
    "            clasificador = DecisionTreeClassifier()\n",
    "        if modelo =='RANDOMF':\n",
    "            clasificador = RandomForestClassifier()\n",
    "        if modelo =='XGBOOST':\n",
    "            clasificador = GradientBoostingClassifier()\n",
    "        \n",
    "        config_modelos = np.append(config_modelos, clasificador)\n",
    "        \n",
    "    return config_modelos\n",
    "\n",
    "# Definición de la función magic_loop, la cual se encargará de correr los modelos con sus diferentes hyperparametros-\n",
    "def magic_loop(configuracion_modelos, hyperParametros, X_train, Y_train, num_folds):\n",
    "    \n",
    "    resultados = np.array([])\n",
    "    for i, clasificador in enumerate(configuracion_modelos):\n",
    "        hyperParametros_modelo = hyperParametros[i]\n",
    "        \n",
    "        grid_search = GridSearchCV(clasificador\n",
    "                                  ,hyperParametros_modelo\n",
    "                                  ,scoring = 'recall'\n",
    "                                  ,cv = num_folds\n",
    "                                  ,n_jobs = -1\n",
    "                                  ,verbose = 3\n",
    "                                  )\n",
    "        grid_search.fit(X_train, Y_train)\n",
    "        cv_resultados = pd.DataFrame(grid_search.cv_results_)\n",
    "        resultados_ordenados = cv_resultados.sort_values(by='rank_test_score', ascending=True)\n",
    "        \n",
    "        resultados = np.append(resultados, resultados_ordenados)\n",
    "        \n",
    "        # Se imprime los mejores hiperparámetros de todos los valores posibles que se incluyeron en el grid\n",
    "        print('grid_search.best_params_: ', grid_search.best_params_)\n",
    "\n",
    "        # Mejor score asociado a los modelos generados con los diferentes hiperparámetros,\n",
    "        # corresponde al promedio de los scores generados durante la validación cruzada\n",
    "        print('grid_search.best_score_: ', grid_search.best_score_)\n",
    "\n",
    "        \n",
    "    return resultados\n"
   ]
  },
  {
   "cell_type": "markdown",
   "metadata": {},
   "source": [
    "Se definen los parámetros a utilizar para cada modelo"
   ]
  },
  {
   "cell_type": "code",
   "execution_count": 27,
   "metadata": {},
   "outputs": [],
   "source": [
    "#Definición de hyperparámetros para cada uno de los tres modelos\n",
    "\n",
    "# Se definen los hyperparámetros de RandomForest\n",
    "hyperParam_randomForest = {'n_estimators': [1,3,7,12], \n",
    "                    'max_depth': [1,3,7,12], \n",
    "                    'max_features': ['sqrt','log2'],\n",
    "                    'min_samples_split': [2,3,7,12]}\n",
    "\n",
    "\n",
    "\n",
    "# Se definen los hyperparámetros de XGBoost\n",
    "hyperParam_xgboost = {'learning_rate': [0.1,0.3,0.7], \n",
    "                    'max_depth': [2,5,8], \n",
    "                    'max_features': ['sqrt','log2'],\n",
    "                    'min_samples_split': [2,3,7],\n",
    "                    'min_samples_leaf': [2,4,8]}\n",
    "\n",
    "\n",
    "# Se definen los hyperparámetros de DecisionTree\n",
    "hyperParam_decisionTree = {'min_samples_split': [2,3,7], \n",
    "                  'max_depth': [1,5,10], \n",
    "                  'max_features': ['sqrt','log2'],\n",
    "                  'min_samples_leaf': [1,3,5]}\n",
    "\n",
    "hyperParametros = np.array([hyperParam_randomForest,hyperParam_xgboost,hyperParam_decisionTree])\n"
   ]
  },
  {
   "cell_type": "markdown",
   "metadata": {},
   "source": [
    "Se definen los modelos a correr:"
   ]
  },
  {
   "cell_type": "code",
   "execution_count": 28,
   "metadata": {},
   "outputs": [],
   "source": [
    "#Modelos a implementar\n",
    "nombres_modelos = np.array(['RANDOMF','XGBOOST','DECTREE'])\n",
    "config_modelos = seleccionar_modelos(nombres_modelos)"
   ]
  },
  {
   "cell_type": "markdown",
   "metadata": {},
   "source": [
    "Se corre el Magic Loop"
   ]
  },
  {
   "cell_type": "code",
   "execution_count": 29,
   "metadata": {},
   "outputs": [
    {
     "name": "stdout",
     "output_type": "stream",
     "text": [
      "Fitting 5 folds for each of 128 candidates, totalling 640 fits\n"
     ]
    },
    {
     "name": "stderr",
     "output_type": "stream",
     "text": [
      "[Parallel(n_jobs=-1)]: Using backend LokyBackend with 4 concurrent workers.\n",
      "[Parallel(n_jobs=-1)]: Done  24 tasks      | elapsed:    2.6s\n",
      "[Parallel(n_jobs=-1)]: Done 203 tasks      | elapsed:    7.6s\n",
      "[Parallel(n_jobs=-1)]: Done 523 tasks      | elapsed:   20.7s\n",
      "[Parallel(n_jobs=-1)]: Done 633 out of 640 | elapsed:   26.2s remaining:    0.3s\n",
      "[Parallel(n_jobs=-1)]: Done 640 out of 640 | elapsed:   26.6s finished\n",
      "[Parallel(n_jobs=-1)]: Using backend LokyBackend with 4 concurrent workers.\n"
     ]
    },
    {
     "name": "stdout",
     "output_type": "stream",
     "text": [
      "grid_search.best_params_:  {'max_depth': 1, 'max_features': 'sqrt', 'min_samples_split': 7, 'n_estimators': 1}\n",
      "grid_search.best_score_:  0.8976279225624292\n",
      "Fitting 5 folds for each of 162 candidates, totalling 810 fits\n"
     ]
    },
    {
     "name": "stderr",
     "output_type": "stream",
     "text": [
      "[Parallel(n_jobs=-1)]: Done  24 tasks      | elapsed:   11.3s\n",
      "[Parallel(n_jobs=-1)]: Done 120 tasks      | elapsed:  1.3min\n",
      "[Parallel(n_jobs=-1)]: Done 280 tasks      | elapsed:  5.3min\n",
      "[Parallel(n_jobs=-1)]: Done 504 tasks      | elapsed:  9.5min\n",
      "[Parallel(n_jobs=-1)]: Done 792 tasks      | elapsed: 15.7min\n",
      "[Parallel(n_jobs=-1)]: Done 810 out of 810 | elapsed: 16.1min finished\n"
     ]
    },
    {
     "name": "stdout",
     "output_type": "stream",
     "text": [
      "grid_search.best_params_:  {'learning_rate': 0.7, 'max_depth': 2, 'max_features': 'sqrt', 'min_samples_leaf': 8, 'min_samples_split': 2}\n",
      "grid_search.best_score_:  0.8515975548112606\n",
      "Fitting 5 folds for each of 54 candidates, totalling 270 fits\n"
     ]
    },
    {
     "name": "stderr",
     "output_type": "stream",
     "text": [
      "[Parallel(n_jobs=-1)]: Using backend LokyBackend with 4 concurrent workers.\n"
     ]
    },
    {
     "name": "stdout",
     "output_type": "stream",
     "text": [
      "grid_search.best_params_:  {'max_depth': 1, 'max_features': 'sqrt', 'min_samples_leaf': 3, 'min_samples_split': 3}\n",
      "grid_search.best_score_:  0.912565858168313\n"
     ]
    },
    {
     "name": "stderr",
     "output_type": "stream",
     "text": [
      "[Parallel(n_jobs=-1)]: Done 270 out of 270 | elapsed:    3.0s finished\n"
     ]
    }
   ],
   "source": [
    "resultados_magicloop = magic_loop(config_modelos, hyperParametros, X_important_train,y_train,5) "
   ]
  },
  {
   "cell_type": "markdown",
   "metadata": {},
   "source": [
    "**Implementación del mejor modelo para predicción**"
   ]
  },
  {
   "cell_type": "code",
   "execution_count": 35,
   "metadata": {},
   "outputs": [
    {
     "name": "stdout",
     "output_type": "stream",
     "text": [
      "[1.         0.821046   0.81805293 1.         0.81250985]\n",
      "0.8903217551936727\n"
     ]
    }
   ],
   "source": [
    "# Definición del modelo con los mejores parámetros\n",
    "model = DecisionTreeClassifier(max_depth = 1, max_features= 'sqrt', min_samples_leaf = 3, min_samples_split = 3)\n",
    "\n",
    "# Implementación de la validación cruzada utilizando la métrica de recall y el modelo antes asignado.\n",
    "# Esto generará el score del modelo y lo comparará con el real. Se obtiene además el recall de cada uno de los folds.\n",
    "\n",
    "cv = cross_validate(model, X_important_train, y_train, cv=5,scoring = 'recall')\n",
    "print(cv['test_score'])\n",
    "print(cv['test_score'].mean())"
   ]
  },
  {
   "cell_type": "code",
   "execution_count": 36,
   "metadata": {},
   "outputs": [
    {
     "data": {
      "text/plain": [
       "array([1, 1, 0, ..., 1, 0, 0])"
      ]
     },
     "execution_count": 36,
     "metadata": {},
     "output_type": "execute_result"
    }
   ],
   "source": [
    "# Se utiliza la función cross_val_predict para obtener las predicciones del conjunto de datos\n",
    "\n",
    "y_pred = cross_val_predict(model, X_important_train, y_train, cv=5)\n",
    "y_pred"
   ]
  },
  {
   "cell_type": "markdown",
   "metadata": {},
   "source": [
    "**Evaluación off-line**"
   ]
  },
  {
   "cell_type": "code",
   "execution_count": 37,
   "metadata": {},
   "outputs": [
    {
     "data": {
      "text/plain": [
       "array([[ 8790,  9074],\n",
       "       [ 5582, 26156]])"
      ]
     },
     "execution_count": 37,
     "metadata": {},
     "output_type": "execute_result"
    }
   ],
   "source": [
    "# Matriz de confusión\n",
    "mc = confusion_matrix(y_train, y_pred)\n",
    "mc"
   ]
  },
  {
   "cell_type": "code",
   "execution_count": 38,
   "metadata": {},
   "outputs": [],
   "source": [
    "# Definición de la función graficar_matrizConfusion que imprime y grafica la matriz de confusión.\n",
    "# La normalzización puede aplicarse al especificar normalizar = True\n",
    "\n",
    "\n",
    "\n",
    "def graficar_matrizConfusion(y_true, y_pred,\n",
    "                          normalizar = False,\n",
    "                          cmap = plt.cm.Blues):\n",
    "    \n",
    "    \n",
    "    ######Cálculo matriz de confusión\n",
    "    matriz_confusion = confusion_matrix(y_true, y_pred)\n",
    "    \n",
    "    if normalizar:\n",
    "        \n",
    "        # Se calcula la matriz de confusión normalizada\n",
    "        matriz_confusion = matriz_confusion.astype('float') / matriz_confusion.sum(axis=1)[:, np.newaxis]\n",
    "        \n",
    "        print(\"Matriz de Confusión Normalizada\")\n",
    "    else:\n",
    "        print('Matriz de Confusión sin Normalización')\n",
    "\n",
    "    print(matriz_confusion)\n",
    "    \n",
    "  \n",
    "    ######Gráfica de la matriz de confusión\n",
    "    # Título de la gráfica de la matriz de confusión\n",
    "    if normalizar:\n",
    "        titulo = 'Matriz de Confusión Normalizada'\n",
    "    else:\n",
    "        titulo = 'Matriz de Confusión sin Normalización'\n",
    "\n",
    "        \n",
    "    # etiquetas de la variable target\n",
    "    nombres_clases = unique_labels(y_pred)\n",
    "\n",
    "    fig, ax = plt.subplots()\n",
    "    im = ax.imshow(matriz_confusion, interpolation = 'nearest', cmap = cmap)\n",
    "    ax.figure.colorbar(im, ax=ax)\n",
    "    \n",
    "    \n",
    "    # Se quieren mostrar los valores de cada sección de la matriz de confusión...\n",
    "    ax.set(xticks = np.arange(matriz_confusion.shape[1]),\n",
    "           yticks = np.arange(matriz_confusion.shape[0]),\n",
    "           \n",
    "           # ...y las etiquetas respectivas\n",
    "           xticklabels = nombres_clases, yticklabels = nombres_clases,\n",
    "           title = titulo,\n",
    "           ylabel = 'True label',\n",
    "           xlabel = 'Predicted label')\n",
    "\n",
    "    \n",
    "    # Se rotan las etiquetas y se fija su alineación\n",
    "    plt.setp(ax.get_xticklabels(), rotation=90, ha = \"right\", rotation_mode = \"anchor\")\n",
    "\n",
    "    # Loop sobre las dimensiones de los datos y creación de los textos de cada sección de la matriz\n",
    "    fmt = '.2f' if normalizar else 'd'\n",
    "    thresh = matriz_confusion.max() / 2.\n",
    "    for i in range(matriz_confusion.shape[0]):\n",
    "        for j in range(matriz_confusion.shape[1]):\n",
    "            ax.text(j, i, format(matriz_confusion[i, j], fmt),\n",
    "                    ha = \"center\", va = \"center\",\n",
    "                    color = \"white\" if matriz_confusion[i, j] > thresh else \"black\")\n",
    "    fig.tight_layout()\n",
    "    return ax"
   ]
  },
  {
   "cell_type": "code",
   "execution_count": 39,
   "metadata": {},
   "outputs": [
    {
     "name": "stdout",
     "output_type": "stream",
     "text": [
      "Matriz de Confusión Normalizada\n",
      "[[0.49205105 0.50794895]\n",
      " [0.1758775  0.8241225 ]]\n"
     ]
    },
    {
     "data": {
      "text/plain": [
       "<matplotlib.axes._subplots.AxesSubplot at 0x7f4671296b70>"
      ]
     },
     "execution_count": 39,
     "metadata": {},
     "output_type": "execute_result"
    },
    {
     "data": {
      "image/png": "[encoded data removed]",
      "text/plain": [
       "<Figure size 842.4x595.44 with 2 Axes>"
      ]
     },
     "metadata": {},
     "output_type": "display_data"
    }
   ],
   "source": [
    "# Matriz de confusión normalizada\n",
    "\n",
    "#class_names = np.array([1,0])\n",
    "graficar_matrizConfusion(y_train, y_pred,normalizar = True,cmap = plt.cm.Blues)\n",
    "\n"
   ]
  },
  {
   "cell_type": "markdown",
   "metadata": {},
   "source": [
    "Para poder interpretar la matriz de confusión, es importante establecer los significados de Positivo y\n",
    "Negativo. Por un lado Positivo corresponde al grupo de edades mayor o igual a 23 años; mientras que\n",
    "Negativo hace referencia al grupo menor a 23 años.\n",
    "\n",
    "De acuerdo a la clasificación anterior se pueden definir las siguientes combinaciones:\n",
    "+ TP: El modelo predijo mayor o igual a 23 y la edad real es mayor o igual a 23 años.\n",
    "+ FP: El modelo predijo mayor o igual a 23 años y la edd real es menor a 23 .\n",
    "+ TN: El modelo predijo menor a 23 años y la edad real es menor a 23.\n",
    "+ FN: El modelo predijo menor a 23 años y la edad real es mayor o igual a 23.\n",
    "\n",
    "La matriz de confusión da lugar a las siguientes observaciones:\n",
    "\n",
    "+ Para el grupo de mujeres cuya edad es mayor o igual a 23 años, el modelo predice correctamente el 82% de las observaciones, es decir, identifica 82% de los Verdaderos Positivos.\n",
    "+ En el caso de mujeres cuya edad es menor a 23 años, el modelo predice correctamente el 49% de las observaciones (Verdaderos Negativos).\n",
    "+ El modelo identica erróneamente el 18% de los datos mayores o iguales a 23 años. Por otro lado, el error en los datos menores a 23 años es del 51%.\n",
    "\n",
    "Con base en lo anterior se determina que el modelo predice mejor el grupo de edades maayor o igual a 23 años, es decir, predice mejor los Verdaderos Positivos.\n"
   ]
  },
  {
   "cell_type": "code",
   "execution_count": null,
   "metadata": {},
   "outputs": [],
   "source": []
  }
 ],
 "metadata": {
  "kernelspec": {
   "display_name": "Python 3",
   "language": "python",
   "name": "python3"
  },
  "language_info": {
   "codemirror_mode": {
    "name": "ipython",
    "version": 3
   },
   "file_extension": ".py",
   "mimetype": "text/x-python",
   "name": "python",
   "nbconvert_exporter": "python",
   "pygments_lexer": "ipython3",
   "version": "3.7.3"
  }
 },
 "nbformat": 4,
 "nbformat_minor": 4
}
